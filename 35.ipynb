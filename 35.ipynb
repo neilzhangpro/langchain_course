{
 "cells": [
  {
   "cell_type": "markdown",
   "metadata": {},
   "source": [
    "## AI Agent智能应用从0到1定制开发 \n",
    "## AI Agent Intelligent Application Custom Development from 0 to 1\n",
    "******\n",
    "- 此代码为网课《AI Agent智能应用从0到1定制开发》的配套代码，需要注意本套代码建议与网课适配配合食用。\n",
    "- This code for the online course <AI Agent Intelligent Applications from 0 to 1 custom development> supporting code, need to pay attention to this set of code is recommended with the online course adapted to work with consumption.\n",
    "- 需要注意由于课程开发周期的原因，langchain版本跨越了3个大版本，部分代码会与视频演示有差别!\n",
    "- Note that due to the course development cycle, the langchain version spans 3 major releases and some of the code will differ from the video demo!\n",
    "- 课程地址：https://coding.imooc.com/class/822.html\n",
    "- Course address: https://coding.imooc.com/class/822.html"
   ]
  },
  {
   "cell_type": "markdown",
   "metadata": {},
   "source": [
    "### 从环境变量中读取密钥\n",
    "### Read the key from the environment variable\n",
    "- 注意：尽量将你的OpenAI Key存储在类似.env文件中，而不是明文暴露在代码里，这是一种基本的安全措施\n",
    "- Note: Try to store your OpenAI Key in something like an .env file, rather than exposing it explicitly in code, as a basic safety measure!\n",
    "******"
   ]
  },
  {
   "cell_type": "code",
   "execution_count": 9,
   "metadata": {},
   "outputs": [],
   "source": [
    "\n",
    "import os\n",
    "from dotenv import load_dotenv\n",
    "# Load environment variables from openai.env file\n",
    "load_dotenv(\"asset/openai.env\")\n",
    "\n",
    "# Read the OPENAI_API_KEY from the environment\n",
    "api_key = os.getenv(\"OPENAI_API_KEY\")\n",
    "api_base = os.getenv(\"OPENAI_API_BASE\")\n",
    "os.environ[\"OPENAI_API_KEY\"] = api_key\n",
    "os.environ[\"OPENAI_API_BASE\"] = api_base\n",
    "os.environ[\"SERPAPI_API_KEY\"] = os.getenv(\"SERPAPI_API_KEY\")\n",
    "os.environ[\"ELEVEN_API_KEY\"] = os.getenv(\"ELEVEN_API_KEY\")\n",
    "os.environ[\"AZURE_COGS_KEY\"] = os.getenv(\"AZURE_COGS_KEY\")\n",
    "os.environ[\"AZURE_COGS_ENDPOINT\"] = os.getenv(\"AZURE_COGS_ENDPOINT\")\n",
    "os.environ[\"AZURE_COGS_REGION\"] = os.getenv(\"AZURE_COGS_REGION\")\n",
    "os.environ[\"DASHSCOPE_API_KEY\"] = os.getenv(\"DASHSCOPE_API_KEY\")\n",
    "os.environ[\"ZHIPUAI_API_KEY\"] = os.getenv(\"ZHIPUAI_API_KEY\")\n",
    "zhipukey =  os.getenv(\"ZHIPUAI_API_KEY\")\n",
    "os.environ[\"TAVILY_API_KEY\"] = os.getenv(\"TAVILY_API_KEY\")\n",
    "os.environ[\"MOONSHOT_API_KEY\"] = os.getenv(\"MoonShot_key\")\n",
    "os.environ[\"BAICHUAN_API_KEY\"] = os.getenv(\"BAICHUAN_API_KEY\")\n",
    "baichuankey = os.getenv(\"BAICHUAN_API_KEY\")"
   ]
  },
  {
   "cell_type": "markdown",
   "metadata": {},
   "source": [
    "### 使用langchain 0.2 大版本 接入百川智能\n",
    "### use langchain 0.2 version with BaiChuanAI\n",
    "*****"
   ]
  },
  {
   "cell_type": "code",
   "execution_count": 10,
   "metadata": {},
   "outputs": [
    {
     "name": "stdout",
     "output_type": "stream",
     "text": [
      "content='闰年的二月有29天，所以你的月薪为：\\n\\n8 * 29 = 232元\\n\\n因此，在闰年的二月，你的月薪是232元。' additional_kwargs={} response_metadata={'token_usage': {'completion_tokens': 45, 'prompt_tokens': 79, 'total_tokens': 124, 'completion_tokens_details': None, 'search_count': 0}, 'model_name': 'Baichuan4', 'system_fingerprint': None, 'finish_reason': 'stop', 'logprobs': None} id='run-11812899-131f-4c18-9bab-a52ce96b1022-0'\n"
     ]
    }
   ],
   "source": [
    "from langchain_core.messages import HumanMessage\n",
    "from langchain.chat_models import  ChatOpenAI\n",
    "from langchain_core.messages import HumanMessage\n",
    "chat = ChatOpenAI(\n",
    "    openai_api_key=baichuankey,\n",
    "    openai_api_base=\"https://api.baichuan-ai.com/v1/\", \n",
    "    model_name=\"Baichuan4\",\n",
    ")\n",
    "res = chat.invoke([HumanMessage(content=\"我日薪8块钱，请问在闰年的二月，我月薪多少\")])\n",
    "try:\n",
    "    print(res)\n",
    "except e:\n",
    "    print(e)\n"
   ]
  },
  {
   "cell_type": "markdown",
   "metadata": {},
   "source": [
    "- chians"
   ]
  },
  {
   "cell_type": "code",
   "execution_count": 6,
   "metadata": {},
   "outputs": [
    {
     "name": "stderr",
     "output_type": "stream",
     "text": [
      "C:\\Users\\Administrator\\AppData\\Local\\Temp\\ipykernel_4068\\490625260.py:7: LangChainDeprecationWarning: The class `LLMChain` was deprecated in LangChain 0.1.17 and will be removed in 1.0. Use :meth:`~RunnableSequence, e.g., `prompt | llm`` instead.\n",
      "  tongyi_joke_chain = LLMChain(llm=chat, prompt=prompt)\n"
     ]
    },
    {
     "name": "stdout",
     "output_type": "stream",
     "text": [
      "{'adjective': '程序员', 'text': '当然，这里有一个关于程序员的笑话：\\n\\n一天，一个程序员走进一家酒吧，他走到吧台前，对酒保说：“给我来一杯啤酒。”\\n\\n酒保回答：“好的，请稍等一下。”\\n\\n程序员看着酒保走向冰箱，打开门，拿出一瓶啤酒，然后关上冰箱门。\\n\\n程序员突然喊道：“等等！”\\n\\n酒保停了下来，疑惑地看着程序员。\\n\\n程序员说：“你刚才打开冰箱门的时候，有没有想过为什么它会打开？”\\n\\n酒保摇了摇头，表示不解。\\n\\n程序员继续解释：“是因为你的手指按下了门把，导致门上的弹簧被压缩，产生了一个力，这个力克服了门的重量和摩擦力，所以门就打开了。”\\n\\n酒保听了，笑着说：“哦，原来是这样，那你知道为什么这瓶啤酒会这么冰吗？”\\n\\n程序员自信满满地说：“当然，这是因为啤酒在冰箱里经过冷却，温度降低到接近冰点，所以感觉很冰。”\\n\\n酒保点点头，给程序员倒了一杯啤酒。\\n\\n程序员满意地喝着啤酒，心想自己又解决了一个问题。'}\n"
     ]
    }
   ],
   "source": [
    "from langchain.chains import LLMChain\n",
    "from langchain_core.prompts import PromptTemplate\n",
    "\n",
    "prompt_template = \"给我讲一个关于{adjective}的笑话\"\n",
    "prompt = PromptTemplate(input_variables=[\"adjective\"],\n",
    "                        template=prompt_template)\n",
    "tongyi_joke_chain = LLMChain(llm=chat, prompt=prompt)\n",
    "res = tongyi_joke_chain.invoke(\"程序员\")\n",
    "print(res)"
   ]
  },
  {
   "cell_type": "markdown",
   "metadata": {},
   "source": [
    "- chians of LCEL"
   ]
  },
  {
   "cell_type": "code",
   "execution_count": 7,
   "metadata": {},
   "outputs": [
    {
     "name": "stdout",
     "output_type": "stream",
     "text": [
      "企鹅在冰箱里找东西吃，发现了一盒冰淇淋。它打开盒子，拿出一个冰淇淋球，然后说：“这可真是个冷笑话啊！”\n"
     ]
    }
   ],
   "source": [
    "from langchain_core.output_parsers import StrOutputParser\n",
    "from langchain_core.prompts import ChatPromptTemplate\n",
    "\n",
    "prompt = ChatPromptTemplate.from_template(\"给我讲一个关于{topic}的笑话\")\n",
    "output_parser = StrOutputParser()\n",
    "\n",
    "chain = prompt | chat | output_parser\n",
    "\n",
    "res = chain.invoke({\"topic\": \"企鹅\"})\n",
    "print(res)"
   ]
  },
  {
   "cell_type": "markdown",
   "metadata": {},
   "source": [
    "- Agents"
   ]
  },
  {
   "cell_type": "code",
   "execution_count": 8,
   "metadata": {},
   "outputs": [
    {
     "name": "stderr",
     "output_type": "stream",
     "text": [
      "e:\\教程\\imooc\\langchan_course\\langchain_v0.2\\Lib\\site-packages\\langsmith\\client.py:323: LangSmithMissingAPIKeyWarning: API key must be provided when using hosted LangSmith API\n",
      "  warnings.warn(\n",
      "Error in StdOutCallbackHandler.on_chain_start callback: AttributeError(\"'NoneType' object has no attribute 'get'\")\n"
     ]
    },
    {
     "name": "stdout",
     "output_type": "stream",
     "text": [
      "\u001b[32;1m\u001b[1;3m我需要获取北京今天的天气情况。\n",
      "Action: search\n",
      "Action Input: \"北京今天天气\"\n",
      "Observation: 等待搜索结果...\u001b[0m\u001b[36;1m\u001b[1;3m['天气非常好万里无云']\u001b[0m\u001b[32;1m\u001b[1;3m北京今天的天气非常好，万里无云。\u001b[0mInvalid Format: Missing 'Action:' after 'Thought:\u001b[32;1m\u001b[1;3m根据观察到的天气情况，北京今天的天气非常好，万里无云。\u001b[0mInvalid Format: Missing 'Action:' after 'Thought:\u001b[32;1m\u001b[1;3mParsing LLM output produced both a final answer and a parse-able action:: Question: 北京今天的天气如何?\n",
      "Thought:我需要获取北京今天的天气情况。\n",
      "Action: search\n",
      "Action Input: \"北京今天天气\"\n",
      "Observation: 等待搜索结果...\n",
      "Observation: ['天气非常好万里无云']\n",
      "Thought: 北京今天的天气非常好，万里无云。\n",
      "Final Answer: 北京今天的天气非常好，万里无云。\u001b[0mInvalid or incomplete response\u001b[32;1m\u001b[1;3m根据观察到的天气情况，北京今天的天气非常好，万里无云。\n",
      "Final Answer: 北京今天的天气非常好，万里无云。\u001b[0m\n",
      "\n",
      "\u001b[1m> Finished chain.\u001b[0m\n",
      "{'input': '北京今天的天气如何?', 'output': '北京今天的天气非常好，万里无云。'}\n"
     ]
    }
   ],
   "source": [
    "from langchain import hub\n",
    "from langchain.agents import AgentExecutor, create_react_agent\n",
    "from langchain_core.tools import tool\n",
    "\n",
    "\n",
    "#自定义工具\n",
    "@tool\n",
    "def search(query: str):\n",
    "  \"\"\"Call to surf the web.\"\"\"\n",
    "  # 返回假数据\n",
    "  return [\"天气非常好万里无云\"]\n",
    "\n",
    "\n",
    "tools = [search]\n",
    "#提示词\n",
    "prompt = hub.pull(\"hwchase17/react\")\n",
    "# Construct the ReAct agent\n",
    "agent = create_react_agent(chat, tools, prompt)\n",
    "#执行\n",
    "agent_executor = AgentExecutor(agent=agent,\n",
    "                               tools=tools,\n",
    "                               verbose=True,\n",
    "                               handle_parsing_errors=True)\n",
    "try:\n",
    "    res = agent_executor.invoke({\"input\": \"北京今天的天气如何?\"})\n",
    "    print(res)\n",
    "except Exception as e:\n",
    "    print(e)"
   ]
  }
 ],
 "metadata": {
  "kernelspec": {
   "display_name": "Python 3",
   "language": "python",
   "name": "python3"
  },
  "language_info": {
   "codemirror_mode": {
    "name": "ipython",
    "version": 3
   },
   "file_extension": ".py",
   "mimetype": "text/x-python",
   "name": "python",
   "nbconvert_exporter": "python",
   "pygments_lexer": "ipython3",
   "version": "3.12.1"
  }
 },
 "nbformat": 4,
 "nbformat_minor": 2
}
