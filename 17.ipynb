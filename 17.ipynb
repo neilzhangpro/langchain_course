{
 "cells": [
  {
   "cell_type": "markdown",
   "metadata": {},
   "source": [
    "## AI Agent智能应用从0到1定制开发 \n",
    "## AI Agent Intelligent Application Custom Development from 0 to 1\n",
    "******\n",
    "- 此代码为网课《AI Agent智能应用从0到1定制开发》的配套代码，需要注意本套代码建议与网课适配配合食用。\n",
    "- This code for the online course <AI Agent Intelligent Applications from 0 to 1 custom development> supporting code, need to pay attention to this set of code is recommended with the online course adapted to work with consumption.\n",
    "- 需要注意由于课程开发周期的原因，langchain版本跨越了3个大版本，部分代码会与视频演示有差别!\n",
    "- Note that due to the course development cycle, the langchain version spans 3 major releases and some of the code will differ from the video demo!\n",
    "- 课程地址：https://coding.imooc.com/class/822.html\n",
    "- Course address: https://coding.imooc.com/class/822.html"
   ]
  },
  {
   "cell_type": "markdown",
   "metadata": {},
   "source": [
    "### 从环境变量中读取密钥\n",
    "### Read the key from the environment variable\n",
    "- 注意：尽量将你的OpenAI Key存储在类似.env文件中，而不是明文暴露在代码里，这是一种基本的安全措施\n",
    "- Note: Try to store your OpenAI Key in something like an .env file, rather than exposing it explicitly in code, as a basic safety measure!\n",
    "******"
   ]
  },
  {
   "cell_type": "code",
   "execution_count": 1,
   "metadata": {},
   "outputs": [],
   "source": [
    "\n",
    "import os\n",
    "from dotenv import load_dotenv\n",
    "# Load environment variables from openai.env file\n",
    "load_dotenv(\"asset/openai.env\")\n",
    "\n",
    "# Read the OPENAI_API_KEY from the environment\n",
    "api_key = os.getenv(\"OPENAI_API_KEY\")\n",
    "api_base = os.getenv(\"OPENAI_API_BASE\")\n",
    "os.environ[\"OPENAI_API_KEY\"] = api_key\n",
    "os.environ[\"OPENAI_API_BASE\"] = api_base"
   ]
  },
  {
   "cell_type": "markdown",
   "metadata": {},
   "source": [
    "### 使用LLMChain克隆一个ChatGPT\n",
    "### Clone a ChatGPT using LLMChain\n",
    "- 自定义提示词\n",
    "- Customizing Prompt Words\n",
    "- 使用记忆\n",
    "- Using Memory\n",
    "<hr>"
   ]
  },
  {
   "cell_type": "code",
   "execution_count": 2,
   "metadata": {},
   "outputs": [
    {
     "name": "stdout",
     "output_type": "stream",
     "text": [
      "\n",
      "\n",
      "\u001b[1m> Entering new LLMChain chain...\u001b[0m\n",
      "Prompt after formatting:\n",
      "\u001b[32;1m\u001b[1;3mAI助手是由OpenAI训练的大型语言模型。\n",
      "\n",
      "AI助手旨在能够处理各种任务，从回答简单问题到提供广泛话题的深入解释和讨论。作为一个语言模型，AI助手能够根据接收到的输入生成类似人类的文本，使其能够进行自然的对话并提供与当前话题相关且连贯的回答。\n",
      "\n",
      "AI助手不断学习和改进，其能力不断发展。它能够处理和理解大量文本，并利用这些知识对各种问题提供准确和丰富的回答。此外，AI助手能够根据接收到的输入生成自己的文本，使其能够参与讨论并就各种话题提供解释和描述。\n",
      "\n",
      "总的来说，AI助手是一个强大的工具，可以帮助处理各种任务，并就广泛话题提供有价值的见解和信息。无论您需要针对特定问题的帮助，还是只是想就某个特定话题进行交流，AI助手都在这里为您提供帮助。\n",
      "\n",
      "\n",
      "Human: 我要求你扮演Linux终端。我会输入命令，你将回复终端应显示的内容。我希望你只在一个唯一的代码块内回复终端输出，不添加其他内容。除非我指示你这样做，否则请不要输入命令。当我需要用英文告诉你一些信息时，我会用花括号{像这样}。我的第一个命令是pwd\n",
      "AI助手:\u001b[0m\n",
      "\n",
      "\u001b[1m> Finished chain.\u001b[0m\n",
      "{'human_input': '我要求你扮演Linux终端。我会输入命令，你将回复终端应显示的内容。我希望你只在一个唯一的代码块内回复终端输出，不添加其他内容。除非我指示你这样做，否则请不要输入命令。当我需要用英文告诉你一些信息时，我会用花括号{像这样}。我的第一个命令是pwd', 'history': '', 'text': '/\\n{Please enter the command in the following code block format}\\n`pwd`'}\n"
     ]
    }
   ],
   "source": [
    "from langchain.chains import LLMChain\n",
    "from langchain_openai import ChatOpenAI\n",
    "from langchain.memory import ConversationBufferWindowMemory\n",
    "from langchain_core.prompts import PromptTemplate\n",
    "\n",
    "template = \"\"\"AI助手是由OpenAI训练的大型语言模型。\n",
    "\n",
    "AI助手旨在能够处理各种任务，从回答简单问题到提供广泛话题的深入解释和讨论。作为一个语言模型，AI助手能够根据接收到的输入生成类似人类的文本，使其能够进行自然的对话并提供与当前话题相关且连贯的回答。\n",
    "\n",
    "AI助手不断学习和改进，其能力不断发展。它能够处理和理解大量文本，并利用这些知识对各种问题提供准确和丰富的回答。此外，AI助手能够根据接收到的输入生成自己的文本，使其能够参与讨论并就各种话题提供解释和描述。\n",
    "\n",
    "总的来说，AI助手是一个强大的工具，可以帮助处理各种任务，并就广泛话题提供有价值的见解和信息。无论您需要针对特定问题的帮助，还是只是想就某个特定话题进行交流，AI助手都在这里为您提供帮助。\n",
    "\n",
    "{history}\n",
    "Human: {human_input}\n",
    "AI助手:\"\"\"\n",
    "\n",
    "prompt = PromptTemplate(input_variables=[\"history\", \"human_input\"], template=template)\n",
    "\n",
    "llm=ChatOpenAI(\n",
    "    model=\"gpt-3.5-turbo\",\n",
    "    temperature=0,\n",
    ")\n",
    "chatgpt_chain = LLMChain(\n",
    "    llm=llm,\n",
    "    prompt=prompt,\n",
    "    verbose=True,\n",
    "    memory=ConversationBufferWindowMemory(k=2),\n",
    ")\n",
    "\n",
    "output = chatgpt_chain.invoke(\n",
    "    input=\"我要求你扮演Linux终端。我会输入命令，你将回复终端应显示的内容。我希望你只在一个唯一的代码块内回复终端输出，不添加其他内容。除非我指示你这样做，否则请不要输入命令。当我需要用英文告诉你一些信息时，我会用花括号{像这样}。我的第一个命令是pwd\"\n",
    "\n",
    ")\n",
    "print(output)"
   ]
  },
  {
   "cell_type": "code",
   "execution_count": 3,
   "metadata": {},
   "outputs": [
    {
     "name": "stdout",
     "output_type": "stream",
     "text": [
      "\n",
      "\n",
      "\u001b[1m> Entering new LLMChain chain...\u001b[0m\n",
      "Prompt after formatting:\n",
      "\u001b[32;1m\u001b[1;3mAI助手是由OpenAI训练的大型语言模型。\n",
      "\n",
      "AI助手旨在能够处理各种任务，从回答简单问题到提供广泛话题的深入解释和讨论。作为一个语言模型，AI助手能够根据接收到的输入生成类似人类的文本，使其能够进行自然的对话并提供与当前话题相关且连贯的回答。\n",
      "\n",
      "AI助手不断学习和改进，其能力不断发展。它能够处理和理解大量文本，并利用这些知识对各种问题提供准确和丰富的回答。此外，AI助手能够根据接收到的输入生成自己的文本，使其能够参与讨论并就各种话题提供解释和描述。\n",
      "\n",
      "总的来说，AI助手是一个强大的工具，可以帮助处理各种任务，并就广泛话题提供有价值的见解和信息。无论您需要针对特定问题的帮助，还是只是想就某个特定话题进行交流，AI助手都在这里为您提供帮助。\n",
      "\n",
      "Human: 我要求你扮演Linux终端。我会输入命令，你将回复终端应显示的内容。我希望你只在一个唯一的代码块内回复终端输出，不添加其他内容。除非我指示你这样做，否则请不要输入命令。当我需要用英文告诉你一些信息时，我会用花括号{像这样}。我的第一个命令是pwd\n",
      "AI: /\n",
      "{Please enter the command in the following code block format}\n",
      "`pwd`\n",
      "Human: ls ~\n",
      "AI助手:\u001b[0m\n",
      "\n",
      "\u001b[1m> Finished chain.\u001b[0m\n",
      "{'human_input': 'ls ~', 'history': 'Human: 我要求你扮演Linux终端。我会输入命令，你将回复终端应显示的内容。我希望你只在一个唯一的代码块内回复终端输出，不添加其他内容。除非我指示你这样做，否则请不要输入命令。当我需要用英文告诉你一些信息时，我会用花括号{像这样}。我的第一个命令是pwd\\nAI: /\\n{Please enter the command in the following code block format}\\n`pwd`', 'text': 'Desktop  Documents  Downloads  Music  Pictures  Videos'}\n"
     ]
    }
   ],
   "source": [
    "output = chatgpt_chain.invoke(input=\"ls ~\")\n",
    "print(output)"
   ]
  },
  {
   "cell_type": "code",
   "execution_count": 4,
   "metadata": {},
   "outputs": [
    {
     "name": "stdout",
     "output_type": "stream",
     "text": [
      "\n",
      "\n",
      "\u001b[1m> Entering new LLMChain chain...\u001b[0m\n",
      "Prompt after formatting:\n",
      "\u001b[32;1m\u001b[1;3mAI助手是由OpenAI训练的大型语言模型。\n",
      "\n",
      "AI助手旨在能够处理各种任务，从回答简单问题到提供广泛话题的深入解释和讨论。作为一个语言模型，AI助手能够根据接收到的输入生成类似人类的文本，使其能够进行自然的对话并提供与当前话题相关且连贯的回答。\n",
      "\n",
      "AI助手不断学习和改进，其能力不断发展。它能够处理和理解大量文本，并利用这些知识对各种问题提供准确和丰富的回答。此外，AI助手能够根据接收到的输入生成自己的文本，使其能够参与讨论并就各种话题提供解释和描述。\n",
      "\n",
      "总的来说，AI助手是一个强大的工具，可以帮助处理各种任务，并就广泛话题提供有价值的见解和信息。无论您需要针对特定问题的帮助，还是只是想就某个特定话题进行交流，AI助手都在这里为您提供帮助。\n",
      "\n",
      "Human: 我要求你扮演Linux终端。我会输入命令，你将回复终端应显示的内容。我希望你只在一个唯一的代码块内回复终端输出，不添加其他内容。除非我指示你这样做，否则请不要输入命令。当我需要用英文告诉你一些信息时，我会用花括号{像这样}。我的第一个命令是pwd\n",
      "AI: /\n",
      "{Please enter the command in the following code block format}\n",
      "`pwd`\n",
      "Human: ls ~\n",
      "AI: Desktop  Documents  Downloads  Music  Pictures  Videos\n",
      "Human: cd ~\n",
      "AI助手:\u001b[0m\n",
      "\n",
      "\u001b[1m> Finished chain.\u001b[0m\n",
      "{'human_input': 'cd ~', 'history': 'Human: 我要求你扮演Linux终端。我会输入命令，你将回复终端应显示的内容。我希望你只在一个唯一的代码块内回复终端输出，不添加其他内容。除非我指示你这样做，否则请不要输入命令。当我需要用英文告诉你一些信息时，我会用花括号{像这样}。我的第一个命令是pwd\\nAI: /\\n{Please enter the command in the following code block format}\\n`pwd`\\nHuman: ls ~\\nAI: Desktop  Documents  Downloads  Music  Pictures  Videos', 'text': '{Please enter the command in the following code block format}\\n`cd ~`'}\n"
     ]
    }
   ],
   "source": [
    "output = chatgpt_chain.invoke(input=\"cd ~\")\n",
    "print(output)"
   ]
  },
  {
   "cell_type": "code",
   "execution_count": 5,
   "metadata": {},
   "outputs": [
    {
     "name": "stdout",
     "output_type": "stream",
     "text": [
      "\n",
      "\n",
      "\u001b[1m> Entering new LLMChain chain...\u001b[0m\n",
      "Prompt after formatting:\n",
      "\u001b[32;1m\u001b[1;3mAI助手是由OpenAI训练的大型语言模型。\n",
      "\n",
      "AI助手旨在能够处理各种任务，从回答简单问题到提供广泛话题的深入解释和讨论。作为一个语言模型，AI助手能够根据接收到的输入生成类似人类的文本，使其能够进行自然的对话并提供与当前话题相关且连贯的回答。\n",
      "\n",
      "AI助手不断学习和改进，其能力不断发展。它能够处理和理解大量文本，并利用这些知识对各种问题提供准确和丰富的回答。此外，AI助手能够根据接收到的输入生成自己的文本，使其能够参与讨论并就各种话题提供解释和描述。\n",
      "\n",
      "总的来说，AI助手是一个强大的工具，可以帮助处理各种任务，并就广泛话题提供有价值的见解和信息。无论您需要针对特定问题的帮助，还是只是想就某个特定话题进行交流，AI助手都在这里为您提供帮助。\n",
      "\n",
      "Human: ls ~\n",
      "AI: Desktop  Documents  Downloads  Music  Pictures  Videos\n",
      "Human: cd ~\n",
      "AI: {Please enter the command in the following code block format}\n",
      "`cd ~`\n",
      "Human: {创建一个名为croypt.txt的文件，并在其中放入主流的加密货币代码}\n",
      "AI助手:\u001b[0m\n",
      "\n",
      "\u001b[1m> Finished chain.\u001b[0m\n",
      "{'human_input': '{创建一个名为croypt.txt的文件，并在其中放入主流的加密货币代码}', 'history': 'Human: ls ~\\nAI: Desktop  Documents  Downloads  Music  Pictures  Videos\\nHuman: cd ~\\nAI: {Please enter the command in the following code block format}\\n`cd ~`', 'text': '```bash\\ntouch crypt.txt\\necho \"Bitcoin, Ethereum, Ripple, Litecoin, etc.\" > crypt.txt\\n```'}\n"
     ]
    }
   ],
   "source": [
    "output = chatgpt_chain.invoke(\n",
    "    input=\"{创建一个名为croypt.txt的文件，并在其中放入主流的加密货币代码}\"\n",
    ")\n",
    "print(output)"
   ]
  },
  {
   "cell_type": "code",
   "execution_count": 6,
   "metadata": {},
   "outputs": [
    {
     "name": "stdout",
     "output_type": "stream",
     "text": [
      "\n",
      "\n",
      "\u001b[1m> Entering new LLMChain chain...\u001b[0m\n",
      "Prompt after formatting:\n",
      "\u001b[32;1m\u001b[1;3mAI助手是由OpenAI训练的大型语言模型。\n",
      "\n",
      "AI助手旨在能够处理各种任务，从回答简单问题到提供广泛话题的深入解释和讨论。作为一个语言模型，AI助手能够根据接收到的输入生成类似人类的文本，使其能够进行自然的对话并提供与当前话题相关且连贯的回答。\n",
      "\n",
      "AI助手不断学习和改进，其能力不断发展。它能够处理和理解大量文本，并利用这些知识对各种问题提供准确和丰富的回答。此外，AI助手能够根据接收到的输入生成自己的文本，使其能够参与讨论并就各种话题提供解释和描述。\n",
      "\n",
      "总的来说，AI助手是一个强大的工具，可以帮助处理各种任务，并就广泛话题提供有价值的见解和信息。无论您需要针对特定问题的帮助，还是只是想就某个特定话题进行交流，AI助手都在这里为您提供帮助。\n",
      "\n",
      "Human: cd ~\n",
      "AI: {Please enter the command in the following code block format}\n",
      "`cd ~`\n",
      "Human: {创建一个名为croypt.txt的文件，并在其中放入主流的加密货币代码}\n",
      "AI: ```bash\n",
      "touch crypt.txt\n",
      "echo \"Bitcoin, Ethereum, Ripple, Litecoin, etc.\" > crypt.txt\n",
      "```\n",
      "Human: echo -e \"x=lambda y:y*5+3;print('Result:' + str(x(6)))\" > run.py && python3 run.py\n",
      "AI助手:\u001b[0m\n",
      "\n",
      "\u001b[1m> Finished chain.\u001b[0m\n",
      "{'human_input': 'echo -e \"x=lambda y:y*5+3;print(\\'Result:\\' + str(x(6)))\" > run.py && python3 run.py', 'history': 'Human: cd ~\\nAI: {Please enter the command in the following code block format}\\n`cd ~`\\nHuman: {创建一个名为croypt.txt的文件，并在其中放入主流的加密货币代码}\\nAI: ```bash\\ntouch crypt.txt\\necho \"Bitcoin, Ethereum, Ripple, Litecoin, etc.\" > crypt.txt\\n```', 'text': '```bash\\necho -e \"x=lambda y:y*5+3;print(\\'Result:\\' + str(x(6)))\" > run.py && python3 run.py\\nResult: 33\\n```'}\n"
     ]
    }
   ],
   "source": [
    "output = chatgpt_chain.invoke(\n",
    "    input=\"\"\"echo -e \"x=lambda y:y*5+3;print('Result:' + str(x(6)))\" > run.py && python3 run.py\"\"\"\n",
    ")\n",
    "print(output)"
   ]
  },
  {
   "cell_type": "code",
   "execution_count": 7,
   "metadata": {},
   "outputs": [
    {
     "name": "stdout",
     "output_type": "stream",
     "text": [
      "\n",
      "\n",
      "\u001b[1m> Entering new LLMChain chain...\u001b[0m\n",
      "Prompt after formatting:\n",
      "\u001b[32;1m\u001b[1;3mAI助手是由OpenAI训练的大型语言模型。\n",
      "\n",
      "AI助手旨在能够处理各种任务，从回答简单问题到提供广泛话题的深入解释和讨论。作为一个语言模型，AI助手能够根据接收到的输入生成类似人类的文本，使其能够进行自然的对话并提供与当前话题相关且连贯的回答。\n",
      "\n",
      "AI助手不断学习和改进，其能力不断发展。它能够处理和理解大量文本，并利用这些知识对各种问题提供准确和丰富的回答。此外，AI助手能够根据接收到的输入生成自己的文本，使其能够参与讨论并就各种话题提供解释和描述。\n",
      "\n",
      "总的来说，AI助手是一个强大的工具，可以帮助处理各种任务，并就广泛话题提供有价值的见解和信息。无论您需要针对特定问题的帮助，还是只是想就某个特定话题进行交流，AI助手都在这里为您提供帮助。\n",
      "\n",
      "Human: {创建一个名为croypt.txt的文件，并在其中放入主流的加密货币代码}\n",
      "AI: ```bash\n",
      "touch crypt.txt\n",
      "echo \"Bitcoin, Ethereum, Ripple, Litecoin, etc.\" > crypt.txt\n",
      "```\n",
      "Human: echo -e \"x=lambda y:y*5+3;print('Result:' + str(x(6)))\" > run.py && python3 run.py\n",
      "AI: ```bash\n",
      "echo -e \"x=lambda y:y*5+3;print('Result:' + str(x(6)))\" > run.py && python3 run.py\n",
      "Result: 33\n",
      "```\n",
      "Human: echo -e \"print(list(filter(lambda x: all(x%d for d in range(2,x)),range(2,3**10)))[:10])\" > run.py && python3 run.py\n",
      "AI助手:\u001b[0m\n",
      "\n",
      "\u001b[1m> Finished chain.\u001b[0m\n",
      "{'human_input': 'echo -e \"print(list(filter(lambda x: all(x%d for d in range(2,x)),range(2,3**10)))[:10])\" > run.py && python3 run.py', 'history': 'Human: {创建一个名为croypt.txt的文件，并在其中放入主流的加密货币代码}\\nAI: ```bash\\ntouch crypt.txt\\necho \"Bitcoin, Ethereum, Ripple, Litecoin, etc.\" > crypt.txt\\n```\\nHuman: echo -e \"x=lambda y:y*5+3;print(\\'Result:\\' + str(x(6)))\" > run.py && python3 run.py\\nAI: ```bash\\necho -e \"x=lambda y:y*5+3;print(\\'Result:\\' + str(x(6)))\" > run.py && python3 run.py\\nResult: 33\\n```', 'text': '```bash\\necho -e \"print(list(filter(lambda x: all(x%d for d in range(2,x)),range(2,3**10)))[:10])\" > run.py && python3 run.py\\n[2, 3, 5, 7, 11, 13, 17, 19, 23, 29]\\n```'}\n"
     ]
    }
   ],
   "source": [
    "output = chatgpt_chain.invoke(\n",
    "    input=\"\"\"echo -e \"print(list(filter(lambda x: all(x%d for d in range(2,x)),range(2,3**10)))[:10])\" > run.py && python3 run.py\"\"\"\n",
    ")\n",
    "print(output)"
   ]
  },
  {
   "cell_type": "code",
   "execution_count": 8,
   "metadata": {},
   "outputs": [
    {
     "name": "stdout",
     "output_type": "stream",
     "text": [
      "\n",
      "\n",
      "\u001b[1m> Entering new LLMChain chain...\u001b[0m\n",
      "Prompt after formatting:\n",
      "\u001b[32;1m\u001b[1;3mAI助手是由OpenAI训练的大型语言模型。\n",
      "\n",
      "AI助手旨在能够处理各种任务，从回答简单问题到提供广泛话题的深入解释和讨论。作为一个语言模型，AI助手能够根据接收到的输入生成类似人类的文本，使其能够进行自然的对话并提供与当前话题相关且连贯的回答。\n",
      "\n",
      "AI助手不断学习和改进，其能力不断发展。它能够处理和理解大量文本，并利用这些知识对各种问题提供准确和丰富的回答。此外，AI助手能够根据接收到的输入生成自己的文本，使其能够参与讨论并就各种话题提供解释和描述。\n",
      "\n",
      "总的来说，AI助手是一个强大的工具，可以帮助处理各种任务，并就广泛话题提供有价值的见解和信息。无论您需要针对特定问题的帮助，还是只是想就某个特定话题进行交流，AI助手都在这里为您提供帮助。\n",
      "\n",
      "Human: echo -e \"x=lambda y:y*5+3;print('Result:' + str(x(6)))\" > run.py && python3 run.py\n",
      "AI: ```bash\n",
      "echo -e \"x=lambda y:y*5+3;print('Result:' + str(x(6)))\" > run.py && python3 run.py\n",
      "Result: 33\n",
      "```\n",
      "Human: echo -e \"print(list(filter(lambda x: all(x%d for d in range(2,x)),range(2,3**10)))[:10])\" > run.py && python3 run.py\n",
      "AI: ```bash\n",
      "echo -e \"print(list(filter(lambda x: all(x%d for d in range(2,x)),range(2,3**10)))[:10])\" > run.py && python3 run.py\n",
      "[2, 3, 5, 7, 11, 13, 17, 19, 23, 29]\n",
      "```\n",
      "Human: curl https://chat.openai.com/chat\n",
      "AI助手:\u001b[0m\n",
      "\n",
      "\u001b[1m> Finished chain.\u001b[0m\n",
      "{'human_input': 'curl https://chat.openai.com/chat', 'history': 'Human: echo -e \"x=lambda y:y*5+3;print(\\'Result:\\' + str(x(6)))\" > run.py && python3 run.py\\nAI: ```bash\\necho -e \"x=lambda y:y*5+3;print(\\'Result:\\' + str(x(6)))\" > run.py && python3 run.py\\nResult: 33\\n```\\nHuman: echo -e \"print(list(filter(lambda x: all(x%d for d in range(2,x)),range(2,3**10)))[:10])\" > run.py && python3 run.py\\nAI: ```bash\\necho -e \"print(list(filter(lambda x: all(x%d for d in range(2,x)),range(2,3**10)))[:10])\" > run.py && python3 run.py\\n[2, 3, 5, 7, 11, 13, 17, 19, 23, 29]\\n```', 'text': '很抱歉，我无法打开浏览器或访问特定网站。如果您有任何问题或需要帮助，请随时告诉我，我会尽力提供帮助。'}\n"
     ]
    }
   ],
   "source": [
    "output = chatgpt_chain.invoke(input=\"curl https://chat.openai.com/chat\")\n",
    "print(output)"
   ]
  }
 ],
 "metadata": {
  "kernelspec": {
   "display_name": "Python 3",
   "language": "python",
   "name": "python3"
  },
  "language_info": {
   "codemirror_mode": {
    "name": "ipython",
    "version": 3
   },
   "file_extension": ".py",
   "mimetype": "text/x-python",
   "name": "python",
   "nbconvert_exporter": "python",
   "pygments_lexer": "ipython3",
   "version": "3.12.1"
  }
 },
 "nbformat": 4,
 "nbformat_minor": 2
}
