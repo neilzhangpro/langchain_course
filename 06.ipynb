{
 "cells": [
  {
   "cell_type": "markdown",
   "metadata": {},
   "source": [
    "## AI Agent智能应用从0到1定制开发 \n",
    "## AI Agent Intelligent Application Custom Development from 0 to 1\n",
    "******\n",
    "- 此代码为网课《AI Agent智能应用从0到1定制开发》的配套代码，需要注意本套代码建议与网课适配配合食用。\n",
    "- This code for the online course <AI Agent Intelligent Applications from 0 to 1 custom development> supporting code, need to pay attention to this set of code is recommended with the online course adapted to work with consumption.\n",
    "- 需要注意由于课程开发周期的原因，langchain版本跨越了3个大版本，部分代码会与视频演示有差别!\n",
    "- Note that due to the course development cycle, the langchain version spans 3 major releases and some of the code will differ from the video demo!\n",
    "- 课程地址：https://coding.imooc.com/class/822.html\n",
    "- Course address: https://coding.imooc.com/class/822.html"
   ]
  },
  {
   "cell_type": "markdown",
   "metadata": {},
   "source": [
    "### 从环境变量中读取密钥\n",
    "### Read the key from the environment variable\n",
    "- 注意：尽量将你的OpenAI Key存储在类似.env文件中，而不是明文暴露在代码里，这是一种基本的安全措施\n",
    "- Note: Try to store your OpenAI Key in something like an .env file, rather than exposing it explicitly in code, as a basic safety measure!\n",
    "******"
   ]
  },
  {
   "cell_type": "code",
   "execution_count": 1,
   "metadata": {},
   "outputs": [],
   "source": [
    "\n",
    "import os\n",
    "from dotenv import load_dotenv\n",
    "# Load environment variables from openai.env file\n",
    "load_dotenv(\"asset/openai.env\")\n",
    "\n",
    "# Read the OPENAI_API_KEY from the environment\n",
    "api_key = os.getenv(\"OPENAI_API_KEY\")\n",
    "api_base = os.getenv(\"OPENAI_API_BASE\")\n",
    "os.environ[\"OPENAI_API_KEY\"] = api_key\n",
    "os.environ[\"OPENAI_API_BASE\"] = api_base"
   ]
  },
  {
   "cell_type": "markdown",
   "metadata": {},
   "source": [
    "### 文档切割\n",
    "###  Document cutting\n",
    "#### 原理\n",
    "#### Principle\n",
    "1. 将文档分成小的、有意义的块(句子).\n",
    "1.  Divide the document into small, meaningful chunks (sentences). \n",
    "2. 将小的块组合成为一个更大的块，直到达到一定的大小.\n",
    "2.  Combine small chunks into larger chunks until a certain size is reached. \n",
    "3. 一旦达到一定的大小，接着开始创建与下一个块重叠的部分.\n",
    "3. Once it reaches a certain size, it starts creating overlapping parts of the next block.\n",
    "#### 示例\n",
    "#### Example\n",
    "- 第一个文档分割\n",
    "- First Document Splitting\n",
    "- 按字符切割\n",
    "- Cutting by Character\n",
    "- 代码文档切割\n",
    "- Code Document Splitting\n",
    "- 按token来切割\n",
    "-  Cut by token\n",
    "********"
   ]
  },
  {
   "cell_type": "markdown",
   "metadata": {},
   "source": [
    "- 第一个文档分割\n",
    "- First Document Splitting"
   ]
  },
  {
   "cell_type": "code",
   "execution_count": null,
   "metadata": {},
   "outputs": [],
   "source": [
    "from langchain_text_splitters import RecursiveCharacterTextSplitter\n",
    "\n",
    "#加载要切割的文档\n",
    "#load the document to be split\n",
    "with open(\"asset/test.txt\") as f:\n",
    "    zuizhonghuanxiang = f.read()\n",
    "\n",
    "#初始化切割器\n",
    "#initialize the splitter\n",
    "text_splitter = RecursiveCharacterTextSplitter(\n",
    "    chunk_size=50,#切分的文本块大小，一般通过长度函数计算 cut the text block size, generally calculated through the length function\n",
    "    chunk_overlap=20,#切分的文本块重叠大小，一般通过长度函数计算 cut the text block overlap size, generally calculated through the length function\n",
    "    length_function=len,#长度函数,也可以传递tokenize函数 length function, you can also pass the tokenize function\n",
    "    add_start_index=True,#是否添加起始索引\n",
    ")\n",
    "\n",
    "text = text_splitter.create_documents([zuizhonghuanxiang])\n",
    "text[0]\n",
    "text[1]"
   ]
  },
  {
   "cell_type": "markdown",
   "metadata": {},
   "source": [
    "- 按字符切割\n",
    "- Cutting by Character"
   ]
  },
  {
   "cell_type": "code",
   "execution_count": null,
   "metadata": {},
   "outputs": [],
   "source": [
    "from langchain_text_splitters import CharacterTextSplitter\n",
    "\n",
    "#加载要切分的文档\n",
    "with open(\"asset/test.txt\") as f:\n",
    "    zuizhonghuanxiang = f.read()\n",
    "\n",
    "#初始化切分器\n",
    "text_splitter = CharacterTextSplitter(\n",
    "    separator=\"。\",#切割的标志字符，默认是\\n\\n\n",
    "    chunk_size=50,#切分的文本块大小，一般通过长度函数计算\n",
    "    chunk_overlap=20,#切分的文本块重叠大小，一般通过长度函数计算\n",
    "    length_function=len,#长度函数,也可以传递tokenize函数\n",
    "    add_start_index=True,#是否添加起始索引\n",
    "    is_separator_regex=False,#是否是正则表达式\n",
    ")\n",
    "text = text_splitter.create_documents([zuizhonghuanxiang])\n",
    "print(text[0])"
   ]
  },
  {
   "cell_type": "markdown",
   "metadata": {},
   "source": [
    "- 代码文档切割\n",
    "- Code Document Splitting"
   ]
  },
  {
   "cell_type": "code",
   "execution_count": null,
   "metadata": {},
   "outputs": [],
   "source": [
    "\n",
    "from langchain_text_splitters import RecursiveCharacterTextSplitter, Language\n",
    "\n",
    "#支持解析的编程语言\n",
    "#Supported programming languages\n",
    "#[e.value for e in Language]\n",
    "\n",
    "#要切割的代码文档\n",
    "#Code document to be split\n",
    "PYTHON_CODE = \"\"\"\n",
    "def hello_world():\n",
    "    print(\"Hello, World!\")\n",
    "#调用函数\n",
    "hello_world()\n",
    "\"\"\"\n",
    "py_spliter = RecursiveCharacterTextSplitter.from_language(\n",
    "    language=Language.PYTHON,\n",
    "    chunk_size=50,\n",
    "    chunk_overlap=10,\n",
    ")\n",
    "python_docs = py_spliter.create_documents([PYTHON_CODE])\n",
    "python_docs\n",
    "\n"
   ]
  },
  {
   "cell_type": "markdown",
   "metadata": {},
   "source": [
    "- 按token来切割\n",
    "-  Cut by token"
   ]
  },
  {
   "cell_type": "code",
   "execution_count": null,
   "metadata": {},
   "outputs": [],
   "source": [
    "from langchain_text_splitters import CharacterTextSplitter\n",
    "\n",
    "#要切割的文档\n",
    "with open(\"asset/test.txt\") as f:\n",
    "    zuizhonghuanxiang = f.read()\n",
    "\n",
    "#初始化切分器\n",
    "text_splitter = CharacterTextSplitter.from_tiktoken_encoder(\n",
    "    chunk_size=4000,#切分的文本块大小，一般通过长度函数计算\n",
    "    chunk_overlap=30,#切分的文本块重叠大小，一般通过长度函数计算\n",
    ")\n",
    "\n",
    "text = text_splitter.create_documents([zuizhonghuanxiang])\n",
    "print(text[0])"
   ]
  },
  {
   "cell_type": "markdown",
   "metadata": {},
   "source": [
    "### 文档的元数据提取、询问和翻译\n",
    "### document MetaData, interrogate and translating documents\n",
    "****"
   ]
  },
  {
   "cell_type": "code",
   "execution_count": null,
   "metadata": {},
   "outputs": [],
   "source": [
    "! pip show doctran"
   ]
  },
  {
   "cell_type": "code",
   "execution_count": null,
   "metadata": {},
   "outputs": [],
   "source": [
    "! pip install  doctran"
   ]
  },
  {
   "cell_type": "code",
   "execution_count": 10,
   "metadata": {},
   "outputs": [],
   "source": [
    "from dotenv import load_dotenv\n",
    "import os\n",
    "# Load environment variables from openai.env file\n",
    "load_dotenv(\"asset/openai.env\")\n",
    "OPENAI_API_KEY = os.environ.get(\"OPEN_API_KEY\")\n",
    "OPENAI_API_BASE = os.environ.get(\"OPENAI_API_BASE\")\n",
    "OPENAI_API_MODEL = \"gpt-4\""
   ]
  },
  {
   "cell_type": "code",
   "execution_count": 2,
   "metadata": {},
   "outputs": [],
   "source": [
    "#加载文档\n",
    "# load the document\n",
    "with open(\"asset/letter.txt\") as f:\n",
    "    content = f.read()"
   ]
  },
  {
   "cell_type": "code",
   "execution_count": 3,
   "metadata": {},
   "outputs": [
    {
     "name": "stdout",
     "output_type": "stream",
     "text": [
      "[Generated with ChatGPT]\n",
      "\n",
      "Confidential Document - For Internal Use Only\n",
      "\n",
      "Date: July 1, 2023\n",
      "\n",
      "Subject: Updates and Discussions on Various Topics\n",
      "\n",
      "Dear Team,\n",
      "\n",
      "I hope this email finds you well. In this document, I would like to provide you with some important updates and discuss various topics that require our attention. Please treat the information contained herein as highly confidential.\n",
      "\n",
      "Security and Privacy Measures\n",
      "As part of our ongoing commitment to ensure the security and privacy of our customers' data, we have implemented robust measures across all our systems. We would like to commend John Doe (email: john.doe@example.com) from the IT department for his diligent work in enhancing our network security. Moving forward, we kindly remind everyone to strictly adhere to our data protection policies and guidelines. Additionally, if you come across any potential security risks or incidents, please report them immediately to our dedicated team at security@example.com.\n",
      "\n",
      "HR Updates and Employee Benefits\n",
      "Recently, we welcomed several new team members who have made significant contributions to their respective departments. I would like to recognize Jane Smith (SSN: 049-45-5928) for her outstanding performance in customer service. Jane has consistently received positive feedback from our clients. Furthermore, please remember that the open enrollment period for our employee benefits program is fast approaching. Should you have any questions or require assistance, please contact our HR representative, Michael Johnson (phone: 418-492-3850, email: michael.johnson@example.com).\n",
      "\n",
      "Marketing Initiatives and Campaigns\n",
      "Our marketing team has been actively working on developing new strategies to increase brand awareness and drive customer engagement. We would like to thank Sarah Thompson (phone: 415-555-1234) for her exceptional efforts in managing our social media platforms. Sarah has successfully increased our follower base by 20% in the past month alone. Moreover, please mark your calendars for the upcoming product launch event on July 15th. We encourage all team members to attend and support this exciting milestone for our company.\n",
      "\n",
      "Research and Development Projects\n",
      "In our pursuit of innovation, our research and development department has been working tirelessly on various projects. I would like to acknowledge the exceptional work of David Rodriguez (email: david.rodriguez@example.com) in his role as project lead. David's contributions to the development of our cutting-edge technology have been instrumental. Furthermore, we would like to remind everyone to share their ideas and suggestions for potential new projects during our monthly R&D brainstorming session, scheduled for July 10th.\n",
      "\n",
      "Please treat the information in this document with utmost confidentiality and ensure that it is not shared with unauthorized individuals. If you have any questions or concerns regarding the topics discussed, please do not hesitate to reach out to me directly.\n",
      "\n",
      "Thank you for your attention, and let's continue to work together to achieve our goals.\n",
      "\n",
      "Best regards,\n",
      "\n",
      "Jason Fan\n",
      "Cofounder & CEO\n",
      "Psychic\n",
      "jason@psychic.dev\n"
     ]
    }
   ],
   "source": [
    "print(content)"
   ]
  },
  {
   "cell_type": "code",
   "execution_count": 4,
   "metadata": {},
   "outputs": [],
   "source": [
    "import json\n",
    "\n",
    "from langchain_community.document_transformers import DoctranPropertyExtractor\n",
    "from langchain_core.documents import Document"
   ]
  },
  {
   "cell_type": "code",
   "execution_count": 5,
   "metadata": {},
   "outputs": [],
   "source": [
    "documents = [Document(page_content=content)]\n",
    "#设置元数据格式\n",
    "#Set the metadata format\n",
    "properties = [\n",
    "    {\n",
    "        \"name\": \"category\",\n",
    "        \"description\": \"What type of email this is.\",\n",
    "        \"type\": \"string\",\n",
    "        \"enum\": [\"update\", \"action_item\", \"customer_feedback\", \"announcement\", \"other\"],\n",
    "        \"required\": True,\n",
    "    },\n",
    "    {\n",
    "        \"name\": \"mentions\",\n",
    "        \"description\": \"A list of all people mentioned in this email.\",\n",
    "        \"type\": \"array\",\n",
    "        \"items\": {\n",
    "            \"name\": \"full_name\",\n",
    "            \"description\": \"The full name of the person mentioned.\",\n",
    "            \"type\": \"string\",\n",
    "        },\n",
    "        \"required\": True,\n",
    "    },\n",
    "    {\n",
    "        \"name\": \"eli5\",\n",
    "        \"description\": \"Explain this email to me like I'm 5 years old.\",\n",
    "        \"type\": \"string\",\n",
    "        \"required\": True,\n",
    "    },\n",
    "]\n",
    "#初始化属性提取器\n",
    "#Initialize the property extractor\n",
    "property_extractor = DoctranPropertyExtractor(\n",
    "    openai_api_model=OPENAI_API_MODEL,\n",
    "    properties=properties\n",
    "    )"
   ]
  },
  {
   "cell_type": "code",
   "execution_count": 6,
   "metadata": {},
   "outputs": [],
   "source": [
    "#提取文档\n",
    "#Extract the document\n",
    "extracted_document = property_extractor.transform_documents(\n",
    "    documents, properties=properties\n",
    ")"
   ]
  },
  {
   "cell_type": "code",
   "execution_count": 7,
   "metadata": {},
   "outputs": [
    {
     "name": "stdout",
     "output_type": "stream",
     "text": [
      "{\n",
      "  \"extracted_properties\": {\n",
      "    \"category\": \"update\",\n",
      "    \"eli5\": \"This email provides updates and discusses various topics that require attention.\",\n",
      "    \"mentions\": [\n",
      "      \"John Doe\",\n",
      "      \"Jane Smith\",\n",
      "      \"Michael Johnson\",\n",
      "      \"Sarah Thompson\",\n",
      "      \"David Rodriguez\"\n",
      "    ]\n",
      "  }\n",
      "}\n"
     ]
    }
   ],
   "source": [
    "print(json.dumps(extracted_document[0].metadata, indent=2))"
   ]
  },
  {
   "cell_type": "markdown",
   "metadata": {},
   "source": [
    "- 询问文档\n",
    "- interrogate Documents\n",
    "- 使用这个文档转换方法，可以将普通的文本格式，转换为QA的对话格式，在输入大模型参考的时候，增加检索相关文档的可能性\n",
    "- Using this document conversion method, you can convert a normal text format into a QA dialog format, increasing the likelihood of retrieving relevant documents when entering large model references."
   ]
  },
  {
   "cell_type": "code",
   "execution_count": 11,
   "metadata": {},
   "outputs": [],
   "source": [
    "import json\n",
    "\n",
    "from langchain_community.document_transformers import DoctranQATransformer\n",
    "from langchain_core.documents import Document"
   ]
  },
  {
   "cell_type": "code",
   "execution_count": 12,
   "metadata": {},
   "outputs": [],
   "source": [
    "#加载文档\n",
    "#Load the document\n",
    "documents = [Document(page_content=content)]\n",
    "#初始化问答转换器\n",
    "#Initialize the Q&A transformer\n",
    "qa_transformer = DoctranQATransformer(\n",
    "    openai_api_model=OPENAI_API_MODEL,\n",
    ")\n",
    "transformed_document = qa_transformer.transform_documents(documents)"
   ]
  },
  {
   "cell_type": "code",
   "execution_count": 13,
   "metadata": {},
   "outputs": [
    {
     "name": "stdout",
     "output_type": "stream",
     "text": [
      "{\n",
      "  \"questions_and_answers\": [\n",
      "    {\n",
      "      \"question\": \"What is the main subject of the document?\",\n",
      "      \"answer\": \"Updates and Discussions on Various Topics\"\n",
      "    },\n",
      "    {\n",
      "      \"question\": \"Who has been commended for enhancing network security?\",\n",
      "      \"answer\": \"John Doe\"\n",
      "    },\n",
      "    {\n",
      "      \"question\": \"Which department is John Doe from?\",\n",
      "      \"answer\": \"IT department\"\n",
      "    },\n",
      "    {\n",
      "      \"question\": \"Where should potential security risks be reported?\",\n",
      "      \"answer\": \"To the dedicated team at security@example.com\"\n",
      "    },\n",
      "    {\n",
      "      \"question\": \"What position does the newcomer, Jane Smith, hold?\",\n",
      "      \"answer\": \"Customer service\"\n",
      "    },\n",
      "    {\n",
      "      \"question\": \"Who is the HR representative to contact for assistance or questions regarding employee benefits?\",\n",
      "      \"answer\": \"Michael Johnson\"\n",
      "    },\n",
      "    {\n",
      "      \"question\": \"What has Sarah Thompson achieved in the past month on the company's social media platforms?\",\n",
      "      \"answer\": \"She has successfully increased the company's follower base by 20%\"\n",
      "    },\n",
      "    {\n",
      "      \"question\": \"When is the upcoming product launch event?\",\n",
      "      \"answer\": \"On July 15th\"\n",
      "    },\n",
      "    {\n",
      "      \"question\": \"Who is the project lead doing exceptional work in the research and development department?\",\n",
      "      \"answer\": \"David Rodriguez\"\n",
      "    },\n",
      "    {\n",
      "      \"question\": \"When is the monthly R&D brainstorming session scheduled?\",\n",
      "      \"answer\": \"On July 10th\"\n",
      "    },\n",
      "    {\n",
      "      \"question\": \"Who wrote this document?\",\n",
      "      \"answer\": \"Jason Fan\"\n",
      "    },\n",
      "    {\n",
      "      \"question\": \"What is Jason Fan's position in the company?\",\n",
      "      \"answer\": \"Cofounder & CEO\"\n",
      "    },\n",
      "    {\n",
      "      \"question\": \"What is the email address of Jason Fan?\",\n",
      "      \"answer\": \"jason@psychic.dev\"\n",
      "    },\n",
      "    {\n",
      "      \"question\": \"What information is emphasized to be kept confidential in the document?\",\n",
      "      \"answer\": \"All the information in the document is mandated to be kept confidential and not be shared with unauthorized individuals.\"\n",
      "    }\n",
      "  ]\n",
      "}\n"
     ]
    }
   ],
   "source": [
    "transformed_document = qa_transformer.transform_documents(documents)\n",
    "print(json.dumps(transformed_document[0].metadata, indent=2))"
   ]
  },
  {
   "cell_type": "markdown",
   "metadata": {},
   "source": [
    "- 翻译文档\n",
    "- translating"
   ]
  },
  {
   "cell_type": "code",
   "execution_count": 14,
   "metadata": {},
   "outputs": [],
   "source": [
    "from langchain_community.document_transformers import DoctranTextTranslator\n",
    "from langchain_core.documents import Document"
   ]
  },
  {
   "cell_type": "code",
   "execution_count": 15,
   "metadata": {},
   "outputs": [],
   "source": [
    "#加载文档\n",
    "#Load the document\n",
    "documents = [Document(page_content=content)]\n",
    "#初始化文本翻译器\n",
    "#Initialize the text translator\n",
    "qa_translator = DoctranTextTranslator(\n",
    "    openai_api_model=OPENAI_API_MODEL,\n",
    "    language=\"chinese\",\n",
    "    )"
   ]
  },
  {
   "cell_type": "code",
   "execution_count": 16,
   "metadata": {},
   "outputs": [
    {
     "name": "stdout",
     "output_type": "stream",
     "text": [
      "保密文件 - 仅供内部使用\n",
      "\n",
      "日期：2023年7月1日\n",
      "\n",
      "主题：关于各个主题的更新与讨论\n",
      "\n",
      "亲爱的团队：\n",
      "\n",
      "希望这封邮件找到你时一切都好。在本文件中，我想为你提供一些重要的更新，并讨论需要我们注意的不同主题。请将本文所含的信息视为高度保密。\n",
      "\n",
      "安全与隐私措施\n",
      "作为我们持续确保客户数据安全和隐私的承诺的一部分，我们在所有系统中实施了强大的措施。我们要表扬来自 IT 部门的 John Doe（电子邮件：john.doe@example.com）对提升我们网络安全的勤勉工作。向前看，我们恳请大家严格遵守我们的数据保护政策和指南。另外，如果你发现任何可能的安全风险或事件，请立即报告给我们的专门团队，电邮地址为 security@example.com。\n",
      "\n",
      "人力资源更新和员工福利\n",
      "近期，我们欢迎了几位在各自部门做出重大贡献的新团队成员。我想表彰 Jane Smith（社会保障号：049-45-5928）在客户服务中的卓越表现。Jane 始终得到我们客户的好评。此外，请记住我们的员工福利计划的开放登记期即将到来。如果你有任何问题或需要协助，请联系我们的人事代表，Michael Johnson（电话：418-492-3850，电子邮件：michael.johnson@example.com）。\n",
      "\n",
      "营销计划和运动\n",
      "我们的营销团队一直积极地制定新的策略，以提高品牌知名度并推动客户参与。我们要感谢 Sarah Thompson（电话：415-555-1234）在管理我们社交媒体平台上的卓越努力。Sarah 在过去的一个月里成功地将我们的粉丝基础增加了 20%。此外，请在你的日历上标记即将于7月15日举行的产品发布活动。我们鼓励所有团队成员参加并支持我们公司的这个重要里程碑。\n",
      "\n",
      "研究和开发项目\n",
      "在我们追求创新的过程中，研究和开发部门一直在各种项目上不懈努力。我要承认 David Rodriguez（电子邮件：david.rodriguez@example.com）在项目领导角色上的出色表现。David 对我们开发尖端技术的贡献是至关重要的。此外，我们想提醒大家在我们每月一次的研发头脑风暴会议上分享他们对可能的新项目的想法和建议，会议定于7月10日。\n",
      "\n",
      "请对这份文件的信息保密，并确保不会向未经授权的个人分享。如果你对所讨论的主题有任何疑问或疑虑，随时直接与我联系。\n",
      "\n",
      "感谢你的关注，让我们继续努力共同实现我们的目标。\n",
      "\n",
      "顺祝商祺，\n",
      "\n",
      "Jason Fan\n",
      "联合创始人&CEO\n",
      "Psychic\n",
      "jason@psychic.dev\n"
     ]
    }
   ],
   "source": [
    "translated_document = qa_translator.transform_documents(documents)\n",
    "print(translated_document[0].page_content)"
   ]
  }
 ],
 "metadata": {
  "kernelspec": {
   "display_name": "Python 3",
   "language": "python",
   "name": "python3"
  },
  "language_info": {
   "codemirror_mode": {
    "name": "ipython",
    "version": 3
   },
   "file_extension": ".py",
   "mimetype": "text/x-python",
   "name": "python",
   "nbconvert_exporter": "python",
   "pygments_lexer": "ipython3",
   "version": "3.12.1"
  }
 },
 "nbformat": 4,
 "nbformat_minor": 2
}
