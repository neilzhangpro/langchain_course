{
 "cells": [
  {
   "cell_type": "markdown",
   "metadata": {},
   "source": [
    "## AI Agent智能应用从0到1定制开发 \n",
    "## AI Agent Intelligent Application Custom Development from 0 to 1\n",
    "******\n",
    "- 此代码为网课《AI Agent智能应用从0到1定制开发》的配套代码，需要注意本套代码建议与网课适配配合食用。\n",
    "- This code for the online course <AI Agent Intelligent Applications from 0 to 1 custom development> supporting code, need to pay attention to this set of code is recommended with the online course adapted to work with consumption.\n",
    "- 需要注意由于课程开发周期的原因，langchain版本跨越了3个大版本，部分代码会与视频演示有差别!\n",
    "- Note that due to the course development cycle, the langchain version spans 3 major releases and some of the code will differ from the video demo!\n",
    "- 课程地址：https://coding.imooc.com/class/822.html\n",
    "- Course address: https://coding.imooc.com/class/822.html"
   ]
  },
  {
   "cell_type": "markdown",
   "metadata": {},
   "source": [
    "### 从环境变量中读取密钥\n",
    "### Read the key from the environment variable\n",
    "- 注意：尽量将你的OpenAI Key存储在类似.env文件中，而不是明文暴露在代码里，这是一种基本的安全措施\n",
    "- Note: Try to store your OpenAI Key in something like an .env file, rather than exposing it explicitly in code, as a basic safety measure!\n",
    "******"
   ]
  },
  {
   "cell_type": "code",
   "execution_count": null,
   "metadata": {},
   "outputs": [],
   "source": [
    "\n",
    "import os\n",
    "from dotenv import load_dotenv\n",
    "# Load environment variables from openai.env file\n",
    "load_dotenv(\"asset/openai.env\")\n",
    "\n",
    "# Read the OPENAI_API_KEY from the environment\n",
    "api_key = os.getenv(\"OPENAI_API_KEY\")\n",
    "api_base = os.getenv(\"OPENAI_API_BASE\")\n",
    "os.environ[\"OPENAI_API_KEY\"] = api_key\n",
    "os.environ[\"OPENAI_API_BASE\"] = api_base\n",
    "os.environ[\"SERPAPI_API_KEY\"] = os.getenv(\"SERPAPI_API_KEY\")\n",
    "os.environ[\"ELEVEN_API_KEY\"] = os.getenv(\"ELEVEN_API_KEY\")\n",
    "os.environ[\"AZURE_COGS_KEY\"] = os.getenv(\"AZURE_COGS_KEY\")\n",
    "os.environ[\"AZURE_COGS_ENDPOINT\"] = os.getenv(\"AZURE_COGS_ENDPOINT\")\n",
    "os.environ[\"AZURE_COGS_REGION\"] = os.getenv(\"AZURE_COGS_REGION\")"
   ]
  },
  {
   "cell_type": "markdown",
   "metadata": {},
   "source": [
    "### 版本与Pydantic兼容\n",
    "在pytho SDK中，目前langchain已经发布了0.0/0.1/0.2/0.3四个大的版本，其中各个版本的Pydantic兼容性如下：\n",
    "- langchain<0.0.267版本，仅支持pydantic v1\n",
    "- langchain>0.0.267版本，支持pydantic v1和v2共存，在langchain内部空间使用Pydantic2的v1命名空间，继续使用v1\n",
    "- langchain 0.3.0 仅支持pydantic v2\n",
    "- 注意：大部分的版本兼容问题可能都是由pydantic引起的\n",
    "- 虽然 LangChain 在某些 API 中支持 Pydantic V2 对象（如下所列），但建议用户继续使用 Pydantic V1 对象，直到 LangChain 0.3 发布。\n",
    "****"
   ]
  },
  {
   "cell_type": "markdown",
   "metadata": {},
   "source": [
    "### 大多数用于工具使用的 LangChain API都已更新为接受 Pydantic v1 或 v2 对象。"
   ]
  },
  {
   "cell_type": "markdown",
   "metadata": {},
   "source": [
    "- BaseChatModel.bind_tools【pydantic v1支持/pydantic v2需要langchain-core>=0.2.23&适合合作伙伴软件包的版本】\n",
    "- BaseChatModel.with_structured_output【pydantic v1支持/pydantic v2需要langchain-core>=0.2.23&适合合作伙伴软件包的版本】\n",
    "- Tool.from_function【pydantic v1支持/pydantic v2需要langchain-core>=0.2.23&适合合作伙伴软件包的版本】\n",
    "- StructuredTool.from_function【pydantic v1支持/pydantic v2需要langchain-core>=0.2.23&适合合作伙伴软件包的版本】\n",
    "****"
   ]
  },
  {
   "cell_type": "markdown",
   "metadata": {},
   "source": [
    "### 通过 bind_tools 或 with_structured_output API 接受 pydantic v2 对象的合作伙伴包"
   ]
  },
  {
   "cell_type": "markdown",
   "metadata": {},
   "source": [
    "- langchain-mistralai 【pydantic v1支持/v2需自身版本>=0.1.11】\n",
    "- langchain-anthropic 【pydantic v1支持/v2需自身版本>=0.1.21】\n",
    "- langchain-robocorp 【pydantic v1支持/v2需自身版本>=0.0.10】\n",
    "- langchain-openai 【pydantic v1支持/v2需自身版本>=0.1.19】\n",
    "- langchain-fireworks 【pydantic v1支持/v2需自身版本>=0.1.5】\n",
    "- langchain-aws 【pydantic v1支持/v2需自身版本>=0.1.15】\n",
    "*****"
   ]
  },
  {
   "cell_type": "markdown",
   "metadata": {},
   "source": [
    "### 在langchain-core<0.2.23版本之前你应该："
   ]
  },
  {
   "cell_type": "code",
   "execution_count": null,
   "metadata": {},
   "outputs": [],
   "source": [
    "from langchain_openai import ChatOpenAI\n",
    "from pydantic.v1 import BaseModel # <-- 注意 v1 namespace\n",
    "\n",
    "class Person(BaseModel):\n",
    "    \"\"\"Personal information\"\"\"\n",
    "    name: str\n",
    "    \n",
    "model = ChatOpenAI()\n",
    "model = model.with_structured_output(Person)\n",
    "\n",
    "model.invoke('Bob is a person.')"
   ]
  },
  {
   "cell_type": "markdown",
   "metadata": {},
   "source": [
    "### 在langchain-core>=0.2.23之后你应该："
   ]
  },
  {
   "cell_type": "code",
   "execution_count": null,
   "metadata": {},
   "outputs": [],
   "source": [
    "from langchain_openai import ChatOpenAI\n",
    "from pydantic import BaseModel\n",
    "\n",
    "class Person(BaseModel):\n",
    "    \"\"\"Personal information\"\"\"\n",
    "    name: str\n",
    "    \n",
    "    \n",
    "model = ChatOpenAI()\n",
    "model = model.with_structured_output(Person)\n",
    "\n",
    "model.invoke('Bob is a person.')"
   ]
  },
  {
   "cell_type": "markdown",
   "metadata": {},
   "source": [
    "### 如果你要继承langchain的原型 你应该注意使用v1命名空间："
   ]
  },
  {
   "cell_type": "code",
   "execution_count": null,
   "metadata": {},
   "outputs": [],
   "source": [
    "from pydantic.v1 import validator\n",
    "from langchain_core.tools import BaseTool\n",
    "\n",
    "class CustomTool(BaseTool): # BaseTool is v1 code\n",
    "    x: int = Field(default=1)\n",
    "\n",
    "    def _run(*args, **kwargs):\n",
    "        return \"hello\"\n",
    "\n",
    "    @validator('x') # v1 code\n",
    "    @classmethod\n",
    "    def validate_x(cls, x: int) -> int:\n",
    "        return 1\n",
    "    \n",
    "\n",
    "CustomTool(\n",
    "    name='custom_tool',\n",
    "    description=\"hello\",\n",
    "    x=1,\n",
    ")"
   ]
  },
  {
   "cell_type": "markdown",
   "metadata": {},
   "source": [
    "### pydantic v1 和v2混用会产生神秘错误"
   ]
  },
  {
   "cell_type": "code",
   "execution_count": null,
   "metadata": {},
   "outputs": [],
   "source": [
    "# bad case\n",
    "from pydantic import Field, field_validator # pydantic v2\n",
    "from langchain_core.tools import BaseTool\n",
    "\n",
    "class CustomTool(BaseTool): # BaseTool is v1 code\n",
    "    x: int = Field(default=1)\n",
    "\n",
    "    def _run(*args, **kwargs):\n",
    "        return \"hello\"\n",
    "\n",
    "    @field_validator('x') # v2 code\n",
    "    @classmethod\n",
    "    def validate_x(cls, x: int) -> int:\n",
    "        return 1\n",
    "    \n",
    "\n",
    "CustomTool( \n",
    "    name='custom_tool',\n",
    "    description=\"hello\",\n",
    "    x=1,\n",
    ")"
   ]
  },
  {
   "cell_type": "markdown",
   "metadata": {},
   "source": [
    "### 合作包中使用pydantic v1的会后，可以开启跳过验证"
   ]
  },
  {
   "cell_type": "code",
   "execution_count": null,
   "metadata": {},
   "outputs": [],
   "source": [
    "from typing import Annotated\n",
    "\n",
    "from langchain_openai import ChatOpenAI # <-- ChatOpenAI uses pydantic v1\n",
    "from pydantic import BaseModel, SkipValidation\n",
    "\n",
    "\n",
    "class Foo(BaseModel): # <-- BaseModel is from Pydantic v2\n",
    "    model: Annotated[ChatOpenAI, SkipValidation()]\n",
    "\n",
    "Foo(model=ChatOpenAI(api_key=\"hello\"))"
   ]
  }
 ],
 "metadata": {
  "kernelspec": {
   "display_name": "Python 3",
   "language": "python",
   "name": "python3"
  },
  "language_info": {
   "name": "python",
   "version": "3.12.1"
  }
 },
 "nbformat": 4,
 "nbformat_minor": 2
}
