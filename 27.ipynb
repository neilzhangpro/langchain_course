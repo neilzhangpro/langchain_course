{
 "cells": [
  {
   "cell_type": "markdown",
   "metadata": {},
   "source": [
    "## AI Agent智能应用从0到1定制开发 \n",
    "## AI Agent Intelligent Application Custom Development from 0 to 1\n",
    "******\n",
    "- 此代码为网课《AI Agent智能应用从0到1定制开发》的配套代码，需要注意本套代码建议与网课适配配合食用。\n",
    "- This code for the online course <AI Agent Intelligent Applications from 0 to 1 custom development> supporting code, need to pay attention to this set of code is recommended with the online course adapted to work with consumption.\n",
    "- 需要注意由于课程开发周期的原因，langchain版本跨越了3个大版本，部分代码会与视频演示有差别!\n",
    "- Note that due to the course development cycle, the langchain version spans 3 major releases and some of the code will differ from the video demo!\n",
    "- 课程地址：https://coding.imooc.com/class/822.html\n",
    "- Course address: https://coding.imooc.com/class/822.html"
   ]
  },
  {
   "cell_type": "markdown",
   "metadata": {},
   "source": [
    "### 从环境变量中读取密钥\n",
    "### Read the key from the environment variable\n",
    "- 注意：尽量将你的OpenAI Key存储在类似.env文件中，而不是明文暴露在代码里，这是一种基本的安全措施\n",
    "- Note: Try to store your OpenAI Key in something like an .env file, rather than exposing it explicitly in code, as a basic safety measure!\n",
    "******"
   ]
  },
  {
   "cell_type": "code",
   "execution_count": 3,
   "metadata": {},
   "outputs": [],
   "source": [
    "\n",
    "import os\n",
    "from dotenv import load_dotenv\n",
    "# Load environment variables from openai.env file\n",
    "load_dotenv(\"asset/openai.env\")\n",
    "\n",
    "# Read the OPENAI_API_KEY from the environment\n",
    "api_key = os.getenv(\"OPENAI_API_KEY\")\n",
    "api_base = os.getenv(\"OPENAI_API_BASE\")\n",
    "os.environ[\"OPENAI_API_KEY\"] = api_key\n",
    "os.environ[\"OPENAI_API_BASE\"] = api_base\n",
    "os.environ[\"SERPAPI_API_KEY\"] = os.getenv(\"SERPAPI_API_KEY\")\n",
    "os.environ[\"ELEVEN_API_KEY\"] = os.getenv(\"ELEVEN_API_KEY\")\n",
    "os.environ[\"AZURE_COGS_KEY\"] = os.getenv(\"AZURE_COGS_KEY\")\n",
    "os.environ[\"AZURE_COGS_ENDPOINT\"] = os.getenv(\"AZURE_COGS_ENDPOINT\")\n",
    "os.environ[\"AZURE_COGS_REGION\"] = os.getenv(\"AZURE_COGS_REGION\")"
   ]
  },
  {
   "cell_type": "markdown",
   "metadata": {},
   "source": [
    "### 使用Runnables来连接多链结构\n",
    "### Use Runnables to link multi-chained structures"
   ]
  },
  {
   "cell_type": "code",
   "execution_count": null,
   "metadata": {},
   "outputs": [],
   "source": [
    "from operator import itemgetter #获取可迭代对象中指定索引或键对应的元素\n",
    "\n",
    "from langchain.schema import StrOutputParser\n",
    "from langchain_core.prompts import ChatPromptTemplate\n",
    "from langchain_openai import ChatOpenAI\n",
    "\n",
    "prompt1 = ChatPromptTemplate.from_template(\"{person}来自于哪个城市?\")\n",
    "prompt2 = ChatPromptTemplate.from_template(\n",
    "    \"{city}属于哪个省? 用{language}来回答\"\n",
    ")\n",
    "\n",
    "model = ChatOpenAI()\n",
    "\n",
    "chain1 = prompt1 | model | StrOutputParser()\n",
    "\n",
    "chain2 = (\n",
    "    {\"city\": chain1, \"language\": itemgetter(\"language\")} #获取invoke中的language\n",
    "    | prompt2\n",
    "    | model\n",
    "    | StrOutputParser()\n",
    ")\n",
    "chain1.invoke({\"person\": \"马化腾\"})\n",
    "#chain2.invoke({\"person\": \"马化腾\", \"language\": \"中文\"})"
   ]
  },
  {
   "cell_type": "code",
   "execution_count": 3,
   "metadata": {},
   "outputs": [],
   "source": [
    "from langchain_core.runnables import RunnablePassthrough\n",
    "\n",
    "prompt1 = ChatPromptTemplate.from_template(\n",
    "    \"生成一个{attribute}属性的颜色。除了返回这个颜色的名字不要做其他事:\"\n",
    ")\n",
    "prompt2 = ChatPromptTemplate.from_template(\n",
    "    \"什么水果是这个颜色:{color},只返回这个水果的名字不要做其他事情:\"\n",
    ")\n",
    "prompt3 = ChatPromptTemplate.from_template(\n",
    "    \"哪个国家的国旗有这个颜色:{color},只返回这个国家的名字不要做其他事情:\"\n",
    ")\n",
    "prompt4 = ChatPromptTemplate.from_template(\n",
    "    \"有这个颜色的水果是{fruit},有这个颜色的国旗是{country}？\"\n",
    ")\n",
    "\n",
    "model_parser = model | StrOutputParser()\n",
    "# 生成一个颜色\n",
    "color_generator = (\n",
    "    {\"attribute\": RunnablePassthrough()} | prompt1 | {\"color\": model_parser}\n",
    ")\n",
    "color_to_fruit = prompt2 | model_parser\n",
    "color_to_country = prompt3 | model_parser\n",
    "question_generator = (\n",
    "    color_generator | {\"fruit\": color_to_fruit, \"country\": color_to_country} | prompt4\n",
    ")"
   ]
  },
  {
   "cell_type": "code",
   "execution_count": null,
   "metadata": {},
   "outputs": [],
   "source": [
    "question_generator.invoke(\"强烈的\")"
   ]
  },
  {
   "cell_type": "markdown",
   "metadata": {},
   "source": [
    "- 多链执行与结果合并\n",
    "- Multi-chain execution and merging of results"
   ]
  },
  {
   "cell_type": "code",
   "execution_count": null,
   "metadata": {},
   "outputs": [],
   "source": [
    "      输入\n",
    "      / \\\n",
    "     /   \\\n",
    " 分支1   分支2\n",
    "     \\   /\n",
    "      \\ /\n",
    "    合并结果"
   ]
  },
  {
   "cell_type": "markdown",
   "metadata": {},
   "source": [
    "- 唯物辩证链\n",
    "- chain of reasoning and logic"
   ]
  },
  {
   "cell_type": "code",
   "execution_count": 6,
   "metadata": {},
   "outputs": [],
   "source": [
    "planner = (\n",
    "    ChatPromptTemplate.from_template(\"生成一个关于{input}的论点\")\n",
    "    | ChatOpenAI()\n",
    "    | StrOutputParser()\n",
    "    | {\"base_response\": RunnablePassthrough()}\n",
    ")\n",
    "\n",
    "arguments_for = (\n",
    "    ChatPromptTemplate.from_template(\n",
    "        \"列出以下内容的优点或积极方面:{base_response}\"\n",
    "    )\n",
    "    | ChatOpenAI()\n",
    "    | StrOutputParser()\n",
    ")\n",
    "arguments_against = (\n",
    "    ChatPromptTemplate.from_template(\n",
    "        \"列出以下内容的缺点或消极方面:{base_response}\"\n",
    "    )\n",
    "    | ChatOpenAI()\n",
    "    | StrOutputParser()\n",
    ")\n",
    "\n",
    "final_responder = (\n",
    "    ChatPromptTemplate.from_messages(\n",
    "        [\n",
    "            (\"ai\", \"{original_response}\"),\n",
    "            (\"human\", \"积极:\\n{results_1}\\n\\n消极:\\n{results_2}\"),\n",
    "            (\"system\", \"根据评论生成最终的回复\"),\n",
    "        ]\n",
    "    )\n",
    "    | ChatOpenAI()\n",
    "    | StrOutputParser()\n",
    ")\n",
    "\n",
    "chain = (\n",
    "    planner\n",
    "    | {\n",
    "        \"results_1\": arguments_for,\n",
    "        \"results_2\": arguments_against,\n",
    "        \"original_response\": itemgetter(\"base_response\"),\n",
    "    }\n",
    "    | final_responder\n",
    ")"
   ]
  },
  {
   "cell_type": "code",
   "execution_count": null,
   "metadata": {},
   "outputs": [],
   "source": [
    "chain.invoke({\"input\": \"生孩子\"})"
   ]
  },
  {
   "cell_type": "markdown",
   "metadata": {},
   "source": [
    "### 查询SQL\n",
    "### Query SQL"
   ]
  },
  {
   "cell_type": "code",
   "execution_count": 8,
   "metadata": {},
   "outputs": [],
   "source": [
    "from langchain_core.prompts import ChatPromptTemplate\n",
    "\n",
    "template = \"\"\"Based on the table schema below, write a SQL query that would answer the user's question:\n",
    "{schema}\n",
    "\n",
    "Question: {question}\n",
    "SQL Query:\"\"\"\n",
    "prompt = ChatPromptTemplate.from_template(template)"
   ]
  },
  {
   "cell_type": "code",
   "execution_count": 9,
   "metadata": {},
   "outputs": [],
   "source": [
    "from langchain_community.utilities import SQLDatabase\n",
    "db = SQLDatabase.from_uri(\"sqlite:///asset/Chinook.db\")"
   ]
  },
  {
   "cell_type": "code",
   "execution_count": null,
   "metadata": {},
   "outputs": [],
   "source": [
    "db.get_table_info()"
   ]
  },
  {
   "cell_type": "code",
   "execution_count": 11,
   "metadata": {},
   "outputs": [],
   "source": [
    "from langchain_core.output_parsers import StrOutputParser\n",
    "from langchain_core.runnables import RunnablePassthrough\n",
    "from langchain_openai import ChatOpenAI\n",
    "\n",
    "model = ChatOpenAI(\n",
    "    model=\"gpt-4\",\n",
    "    temperature=0,\n",
    ")\n",
    "\n",
    "def get_schema(_):\n",
    "    return db.get_table_info()\n",
    "\n",
    "\n",
    "\n",
    "sql_response = (\n",
    "    RunnablePassthrough.assign(schema=get_schema)\n",
    "    | prompt\n",
    "    | model.bind(stop=[\"\\nSQLResult:\"])\n",
    "    | StrOutputParser()\n",
    ")"
   ]
  },
  {
   "cell_type": "code",
   "execution_count": null,
   "metadata": {},
   "outputs": [],
   "source": [
    "sql_response.invoke({\"question\": \"How many artists are there?\"})"
   ]
  },
  {
   "cell_type": "code",
   "execution_count": 13,
   "metadata": {},
   "outputs": [],
   "source": [
    "def run_query(query):\n",
    "    print(query)\n",
    "    return db.run(query)\n",
    "\n",
    "template = \"\"\"Based on the table schema below, question, sql query, and sql response, write a natural language response:\n",
    "{schema}\n",
    "\n",
    "Question: {question}\n",
    "SQL Query: {query}\n",
    "SQL Response: {response}\"\"\"\n",
    "prompt_response = ChatPromptTemplate.from_template(template)\n",
    "\n",
    "full_chain = (\n",
    "    RunnablePassthrough.assign(query=sql_response).assign(\n",
    "        schema=get_schema,\n",
    "        response=lambda x: db.run(x[\"query\"]),\n",
    "    )\n",
    "    | prompt_response\n",
    "    | model\n",
    ")"
   ]
  },
  {
   "cell_type": "code",
   "execution_count": null,
   "metadata": {},
   "outputs": [],
   "source": [
    "full_chain.invoke({\"question\": \"How many artists are there?\"})"
   ]
  },
  {
   "cell_type": "markdown",
   "metadata": {},
   "source": [
    "### 自定义输出解析器\n",
    "- python编程助手\n",
    "### Customizing the output parser\n",
    "- python programming assistant"
   ]
  },
  {
   "cell_type": "code",
   "execution_count": 1,
   "metadata": {},
   "outputs": [
    {
     "name": "stdout",
     "output_type": "stream",
     "text": [
      "^C\n",
      "Collecting langchain-experimental==0.0.54\n",
      "  Obtaining dependency information for langchain-experimental==0.0.54 from https://files.pythonhosted.org/packages/b9/24/2c9d15ef2cdc4f2c3f70bf264bc410d97ce62633a4d7bd5eabbe96ba4604/langchain_experimental-0.0.54-py3-none-any.whl.metadata\n",
      "  Downloading langchain_experimental-0.0.54-py3-none-any.whl.metadata (2.1 kB)\n",
      "Requirement already satisfied: langchain<0.2.0,>=0.1.12 in .\\langchain_v0.1\\lib\\site-packages (from langchain-experimental==0.0.54) (0.1.14)\n",
      "Requirement already satisfied: langchain-core<0.2.0,>=0.1.31 in .\\langchain_v0.1\\lib\\site-packages (from langchain-experimental==0.0.54) (0.1.52)\n",
      "Requirement already satisfied: PyYAML>=5.3 in .\\langchain_v0.1\\lib\\site-packages (from langchain<0.2.0,>=0.1.12->langchain-experimental==0.0.54) (6.0.2)\n",
      "Requirement already satisfied: SQLAlchemy<3,>=1.4 in .\\langchain_v0.1\\lib\\site-packages (from langchain<0.2.0,>=0.1.12->langchain-experimental==0.0.54) (2.0.35)\n",
      "Requirement already satisfied: aiohttp<4.0.0,>=3.8.3 in .\\langchain_v0.1\\lib\\site-packages (from langchain<0.2.0,>=0.1.12->langchain-experimental==0.0.54) (3.10.5)\n",
      "Requirement already satisfied: dataclasses-json<0.7,>=0.5.7 in .\\langchain_v0.1\\lib\\site-packages (from langchain<0.2.0,>=0.1.12->langchain-experimental==0.0.54) (0.6.7)\n",
      "Requirement already satisfied: jsonpatch<2.0,>=1.33 in .\\langchain_v0.1\\lib\\site-packages (from langchain<0.2.0,>=0.1.12->langchain-experimental==0.0.54) (1.33)\n",
      "Requirement already satisfied: langchain-community<0.1,>=0.0.30 in .\\langchain_v0.1\\lib\\site-packages (from langchain<0.2.0,>=0.1.12->langchain-experimental==0.0.54) (0.0.38)\n",
      "Requirement already satisfied: langchain-text-splitters<0.1,>=0.0.1 in .\\langchain_v0.1\\lib\\site-packages (from langchain<0.2.0,>=0.1.12->langchain-experimental==0.0.54) (0.0.2)\n",
      "Requirement already satisfied: langsmith<0.2.0,>=0.1.17 in .\\langchain_v0.1\\lib\\site-packages (from langchain<0.2.0,>=0.1.12->langchain-experimental==0.0.54) (0.1.125)\n",
      "Requirement already satisfied: numpy<2,>=1 in .\\langchain_v0.1\\lib\\site-packages (from langchain<0.2.0,>=0.1.12->langchain-experimental==0.0.54) (1.26.4)\n",
      "Requirement already satisfied: pydantic<3,>=1 in .\\langchain_v0.1\\lib\\site-packages (from langchain<0.2.0,>=0.1.12->langchain-experimental==0.0.54) (2.9.2)\n",
      "Requirement already satisfied: requests<3,>=2 in .\\langchain_v0.1\\lib\\site-packages (from langchain<0.2.0,>=0.1.12->langchain-experimental==0.0.54) (2.32.3)\n",
      "Requirement already satisfied: tenacity<9.0.0,>=8.1.0 in .\\langchain_v0.1\\lib\\site-packages (from langchain<0.2.0,>=0.1.12->langchain-experimental==0.0.54) (8.5.0)\n",
      "Requirement already satisfied: packaging<24.0,>=23.2 in .\\langchain_v0.1\\lib\\site-packages (from langchain-core<0.2.0,>=0.1.31->langchain-experimental==0.0.54) (23.2)\n",
      "Requirement already satisfied: aiohappyeyeballs>=2.3.0 in .\\langchain_v0.1\\lib\\site-packages (from aiohttp<4.0.0,>=3.8.3->langchain<0.2.0,>=0.1.12->langchain-experimental==0.0.54) (2.4.0)\n",
      "Requirement already satisfied: aiosignal>=1.1.2 in .\\langchain_v0.1\\lib\\site-packages (from aiohttp<4.0.0,>=3.8.3->langchain<0.2.0,>=0.1.12->langchain-experimental==0.0.54) (1.3.1)\n",
      "Requirement already satisfied: attrs>=17.3.0 in .\\langchain_v0.1\\lib\\site-packages (from aiohttp<4.0.0,>=3.8.3->langchain<0.2.0,>=0.1.12->langchain-experimental==0.0.54) (24.2.0)\n",
      "Requirement already satisfied: frozenlist>=1.1.1 in .\\langchain_v0.1\\lib\\site-packages (from aiohttp<4.0.0,>=3.8.3->langchain<0.2.0,>=0.1.12->langchain-experimental==0.0.54) (1.4.1)\n",
      "Requirement already satisfied: multidict<7.0,>=4.5 in .\\langchain_v0.1\\lib\\site-packages (from aiohttp<4.0.0,>=3.8.3->langchain<0.2.0,>=0.1.12->langchain-experimental==0.0.54) (6.1.0)\n",
      "Requirement already satisfied: yarl<2.0,>=1.0 in .\\langchain_v0.1\\lib\\site-packages (from aiohttp<4.0.0,>=3.8.3->langchain<0.2.0,>=0.1.12->langchain-experimental==0.0.54) (1.11.1)\n",
      "Requirement already satisfied: marshmallow<4.0.0,>=3.18.0 in .\\langchain_v0.1\\lib\\site-packages (from dataclasses-json<0.7,>=0.5.7->langchain<0.2.0,>=0.1.12->langchain-experimental==0.0.54) (3.22.0)\n",
      "Requirement already satisfied: typing-inspect<1,>=0.4.0 in .\\langchain_v0.1\\lib\\site-packages (from dataclasses-json<0.7,>=0.5.7->langchain<0.2.0,>=0.1.12->langchain-experimental==0.0.54) (0.9.0)\n",
      "Requirement already satisfied: jsonpointer>=1.9 in .\\langchain_v0.1\\lib\\site-packages (from jsonpatch<2.0,>=1.33->langchain<0.2.0,>=0.1.12->langchain-experimental==0.0.54) (3.0.0)\n",
      "Requirement already satisfied: httpx<1,>=0.23.0 in .\\langchain_v0.1\\lib\\site-packages (from langsmith<0.2.0,>=0.1.17->langchain<0.2.0,>=0.1.12->langchain-experimental==0.0.54) (0.27.2)\n",
      "Requirement already satisfied: orjson<4.0.0,>=3.9.14 in .\\langchain_v0.1\\lib\\site-packages (from langsmith<0.2.0,>=0.1.17->langchain<0.2.0,>=0.1.12->langchain-experimental==0.0.54) (3.10.7)\n",
      "Requirement already satisfied: annotated-types>=0.6.0 in .\\langchain_v0.1\\lib\\site-packages (from pydantic<3,>=1->langchain<0.2.0,>=0.1.12->langchain-experimental==0.0.54) (0.7.0)\n",
      "Requirement already satisfied: pydantic-core==2.23.4 in .\\langchain_v0.1\\lib\\site-packages (from pydantic<3,>=1->langchain<0.2.0,>=0.1.12->langchain-experimental==0.0.54) (2.23.4)\n",
      "Requirement already satisfied: typing-extensions>=4.6.1 in .\\langchain_v0.1\\lib\\site-packages (from pydantic<3,>=1->langchain<0.2.0,>=0.1.12->langchain-experimental==0.0.54) (4.12.2)\n",
      "Requirement already satisfied: charset-normalizer<4,>=2 in .\\langchain_v0.1\\lib\\site-packages (from requests<3,>=2->langchain<0.2.0,>=0.1.12->langchain-experimental==0.0.54) (3.3.2)\n",
      "Requirement already satisfied: idna<4,>=2.5 in .\\langchain_v0.1\\lib\\site-packages (from requests<3,>=2->langchain<0.2.0,>=0.1.12->langchain-experimental==0.0.54) (3.10)\n",
      "Requirement already satisfied: urllib3<3,>=1.21.1 in .\\langchain_v0.1\\lib\\site-packages (from requests<3,>=2->langchain<0.2.0,>=0.1.12->langchain-experimental==0.0.54) (2.2.3)\n",
      "Requirement already satisfied: certifi>=2017.4.17 in .\\langchain_v0.1\\lib\\site-packages (from requests<3,>=2->langchain<0.2.0,>=0.1.12->langchain-experimental==0.0.54) (2024.8.30)\n",
      "Requirement already satisfied: greenlet!=0.4.17 in .\\langchain_v0.1\\lib\\site-packages (from SQLAlchemy<3,>=1.4->langchain<0.2.0,>=0.1.12->langchain-experimental==0.0.54) (3.1.0)\n",
      "Requirement already satisfied: anyio in .\\langchain_v0.1\\lib\\site-packages (from httpx<1,>=0.23.0->langsmith<0.2.0,>=0.1.17->langchain<0.2.0,>=0.1.12->langchain-experimental==0.0.54) (4.5.0)\n",
      "Requirement already satisfied: httpcore==1.* in .\\langchain_v0.1\\lib\\site-packages (from httpx<1,>=0.23.0->langsmith<0.2.0,>=0.1.17->langchain<0.2.0,>=0.1.12->langchain-experimental==0.0.54) (1.0.5)\n",
      "Requirement already satisfied: sniffio in .\\langchain_v0.1\\lib\\site-packages (from httpx<1,>=0.23.0->langsmith<0.2.0,>=0.1.17->langchain<0.2.0,>=0.1.12->langchain-experimental==0.0.54) (1.3.1)\n",
      "Requirement already satisfied: h11<0.15,>=0.13 in .\\langchain_v0.1\\lib\\site-packages (from httpcore==1.*->httpx<1,>=0.23.0->langsmith<0.2.0,>=0.1.17->langchain<0.2.0,>=0.1.12->langchain-experimental==0.0.54) (0.14.0)\n",
      "Requirement already satisfied: mypy-extensions>=0.3.0 in .\\langchain_v0.1\\lib\\site-packages (from typing-inspect<1,>=0.4.0->dataclasses-json<0.7,>=0.5.7->langchain<0.2.0,>=0.1.12->langchain-experimental==0.0.54) (1.0.0)\n",
      "Downloading langchain_experimental-0.0.54-py3-none-any.whl (177 kB)\n",
      "   ---------------------------------------- 0.0/177.6 kB ? eta -:--:--\n",
      "   -- ------------------------------------- 10.2/177.6 kB ? eta -:--:--\n",
      "   ------ -------------------------------- 30.7/177.6 kB 330.3 kB/s eta 0:00:01\n",
      "   ----------- --------------------------- 51.2/177.6 kB 435.7 kB/s eta 0:00:01\n",
      "   ---------------------------------------  174.1/177.6 kB 1.1 MB/s eta 0:00:01\n",
      "   -------------------------------------- 177.6/177.6 kB 973.1 kB/s eta 0:00:00\n",
      "Installing collected packages: langchain-experimental\n",
      "  Attempting uninstall: langchain-experimental\n",
      "    Found existing installation: langchain-experimental 0.3.0\n",
      "    Uninstalling langchain-experimental-0.3.0:\n",
      "      Successfully uninstalled langchain-experimental-0.3.0\n",
      "Successfully installed langchain-experimental-0.0.54\n"
     ]
    },
    {
     "name": "stderr",
     "output_type": "stream",
     "text": [
      "\n",
      "[notice] A new release of pip is available: 23.2.1 -> 24.2\n",
      "[notice] To update, run: python.exe -m pip install --upgrade pip\n"
     ]
    }
   ],
   "source": [
    "! pip uninstall langchain_experimental\n",
    "! pip install langchain-experimental==0.0.54"
   ]
  },
  {
   "cell_type": "code",
   "execution_count": 4,
   "metadata": {},
   "outputs": [],
   "source": [
    "from langchain_core.output_parsers import StrOutputParser\n",
    "from langchain_core.prompts import (\n",
    "    ChatPromptTemplate,\n",
    ")\n",
    "from langchain_experimental.utilities import PythonREPL\n",
    "from langchain_openai import ChatOpenAI\n",
    "\n",
    "template = \"\"\"根据用户需求帮助用户编写python代码. \n",
    "\n",
    "只需要返回makedown格式的python代码, 比如:\n",
    "\n",
    "```python\n",
    "....\n",
    "```\"\"\"\n",
    "prompt = ChatPromptTemplate.from_messages([(\"system\", template), (\"human\", \"{input}\")])\n",
    "\n",
    "model = ChatOpenAI(\n",
    "    model=\"gpt-4\",\n",
    "    temperature=0,\n",
    ")\n",
    "\n",
    "#自定义输出解析，只返回python代码\n",
    "def _sanitize_output(text: str):\n",
    "    _, after = text.split(\"```python\")\n",
    "    return after.split(\"```\")[0]\n",
    "\n",
    "#定义链\n",
    "chain = prompt | model | StrOutputParser() | _sanitize_output | PythonREPL().run"
   ]
  },
  {
   "cell_type": "code",
   "execution_count": 5,
   "metadata": {},
   "outputs": [
    {
     "name": "stderr",
     "output_type": "stream",
     "text": [
      "Python REPL can execute arbitrary code. Use with caution.\n"
     ]
    },
    {
     "data": {
      "text/plain": [
       "'Prime numbers in the range 10 are: [2, 3, 5, 7]\\n'"
      ]
     },
     "execution_count": 5,
     "metadata": {},
     "output_type": "execute_result"
    }
   ],
   "source": [
    "chain.invoke({\"input\": \"从10里面循环找出所有质数\"})"
   ]
  }
 ],
 "metadata": {
  "kernelspec": {
   "display_name": "Python 3",
   "language": "python",
   "name": "python3"
  },
  "language_info": {
   "codemirror_mode": {
    "name": "ipython",
    "version": 3
   },
   "file_extension": ".py",
   "mimetype": "text/x-python",
   "name": "python",
   "nbconvert_exporter": "python",
   "pygments_lexer": "ipython3",
   "version": "3.12.1"
  }
 },
 "nbformat": 4,
 "nbformat_minor": 2
}
