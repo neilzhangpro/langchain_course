{
 "cells": [
  {
   "cell_type": "markdown",
   "metadata": {},
   "source": [
    "## AI Agent智能应用从0到1定制开发 \n",
    "## AI Agent Intelligent Application Custom Development from 0 to 1\n",
    "******\n",
    "- 此代码为网课《AI Agent智能应用从0到1定制开发》的配套代码，需要注意本套代码建议与网课适配配合食用。\n",
    "- This code for the online course <AI Agent Intelligent Applications from 0 to 1 custom development> supporting code, need to pay attention to this set of code is recommended with the online course adapted to work with consumption.\n",
    "- 需要注意由于课程开发周期的原因，langchain版本跨越了3个大版本，部分代码会与视频演示有差别!\n",
    "- Note that due to the course development cycle, the langchain version spans 3 major releases and some of the code will differ from the video demo!\n",
    "- 课程地址：https://coding.imooc.com/class/822.html\n",
    "- Course address: https://coding.imooc.com/class/822.html"
   ]
  },
  {
   "cell_type": "markdown",
   "metadata": {},
   "source": [
    "### 从环境变量中读取密钥\n",
    "### Read the key from the environment variable\n",
    "- 注意：尽量将你的OpenAI Key存储在类似.env文件中，而不是明文暴露在代码里，这是一种基本的安全措施\n",
    "- Note: Try to store your OpenAI Key in something like an .env file, rather than exposing it explicitly in code, as a basic safety measure!\n",
    "******"
   ]
  },
  {
   "cell_type": "code",
   "execution_count": 1,
   "metadata": {},
   "outputs": [],
   "source": [
    "\n",
    "import os\n",
    "from dotenv import load_dotenv\n",
    "# Load environment variables from openai.env file\n",
    "load_dotenv(\"asset/openai.env\")\n",
    "\n",
    "# Read the OPENAI_API_KEY from the environment\n",
    "api_key = os.getenv(\"OPENAI_API_KEY\")\n",
    "api_base = os.getenv(\"OPENAI_API_BASE\")\n",
    "os.environ[\"OPENAI_API_KEY\"] = api_key\n",
    "os.environ[\"OPENAI_API_BASE\"] = api_base\n",
    "os.environ[\"SERPAPI_API_KEY\"] = os.getenv(\"SERPAPI_API_KEY\")\n",
    "os.environ[\"ELEVEN_API_KEY\"] = os.getenv(\"ELEVEN_API_KEY\")\n",
    "os.environ[\"AZURE_COGS_KEY\"] = os.getenv(\"AZURE_COGS_KEY\")\n",
    "os.environ[\"AZURE_COGS_ENDPOINT\"] = os.getenv(\"AZURE_COGS_ENDPOINT\")\n",
    "os.environ[\"AZURE_COGS_REGION\"] = os.getenv(\"AZURE_COGS_REGION\")\n",
    "os.environ[\"DASHSCOPE_API_KEY\"] = os.getenv(\"DASHSCOPE_API_KEY\")\n",
    "os.environ[\"ZHIPUAI_API_KEY\"] = os.getenv(\"ZHIPUAI_API_KEY\")\n",
    "zhipukey =  os.getenv(\"ZHIPUAI_API_KEY\")\n",
    "os.environ[\"TAVILY_API_KEY\"] = os.getenv(\"TAVILY_API_KEY\")\n",
    "os.environ[\"MOONSHOT_API_KEY\"] = os.getenv(\"MoonShot_key\")\n",
    "MoonShot_key = os.getenv(\"MoonShot_key\")\n",
    "os.environ[\"BAICHUAN_API_KEY\"] = os.getenv(\"BAICHUAN_API_KEY\")\n",
    "baichuankey = os.getenv(\"BAICHUAN_API_KEY\")"
   ]
  },
  {
   "cell_type": "markdown",
   "metadata": {},
   "source": [
    "- 学员问题：希望可以将API返回的数据进行过滤\n",
    "- 思路：使用一个自定义的chain就可以实现，注意需要输出为json\n",
    "- 思路：其实可以使用类似sqlagent这样的方式更高级，直接让agent从数据库里查询\n",
    "****"
   ]
  },
  {
   "cell_type": "code",
   "execution_count": 7,
   "metadata": {},
   "outputs": [],
   "source": [
    "mock_data = [\n",
    "    {\n",
    "        'user': {\n",
    "            'email': 'test1@gmail.com',\n",
    "            'name': 'tony hood',\n",
    "            'organization_id': 1,\n",
    "            'phone': \"null\"\n",
    "        },\n",
    "        'user_id': 22086,\n",
    "        'phone': \"null\",\n",
    "        'email': 'test1@gmail.com',\n",
    "        'name': 'tony hood',\n",
    "        'created': '2024-08-11T04:58:46.798058Z',\n",
    "        'modified': '2024-09-07T17:21:50.186396Z',\n",
    "        'updated_by': 2\n",
    "    },\n",
    "    {\n",
    "        'user': {\n",
    "            'email': 'look@gmail.com',\n",
    "            'name': 'Look Tom',\n",
    "            'organization_id': 1,\n",
    "            'phone': \"null\"\n",
    "        },\n",
    "        'user_id': 22086,\n",
    "        'phone': \"null\",\n",
    "        'email': 'look@gmail.com',\n",
    "        'name': 'Look Tom',\n",
    "        'created': '2024-08-11T04:58:46.798058Z',\n",
    "        'modified': '2024-09-07T17:21:50.186396Z',\n",
    "        'updated_by': 2\n",
    "    },\n",
    "    {\n",
    "        'user': {\n",
    "            'email': 'abc@gmail.com',\n",
    "            'name': 'David Smith',\n",
    "            'organization_id': 1,\n",
    "            'phone': \"null\"\n",
    "        },\n",
    "        'user_id': 22086,\n",
    "        'phone': \"null\",\n",
    "        'email': 'abc@gmail.com',\n",
    "        'name': 'David Smith',\n",
    "        'created': '2024-08-11T04:58:46.798058Z',\n",
    "        'modified': '2024-09-07T17:21:50.186396Z',\n",
    "        'updated_by': 2\n",
    "    },\n",
    "    {\n",
    "        'user': {\n",
    "            'email': 'def@gmail.com',\n",
    "            'name': 'John Smith',\n",
    "            'organization_id': 1,\n",
    "            'phone': \"null\"\n",
    "        },\n",
    "        'user_id': 22099,\n",
    "        'phone': \"null\",\n",
    "        'email': 'def@gmail.com',\n",
    "        'name': 'John Smith',\n",
    "        'created': '2024-08-11T04:58:46.798058Z',\n",
    "        'modified': '2024-09-07T17:21:50.186396Z',\n",
    "        'updated_by': 2\n",
    "    }\n",
    "]\n"
   ]
  },
  {
   "cell_type": "code",
   "execution_count": 11,
   "metadata": {},
   "outputs": [
    {
     "name": "stdout",
     "output_type": "stream",
     "text": [
      "Orignal User Data: [{'user': {'email': 'test1@gmail.com', 'name': 'tony hood', 'organization_id': 1, 'phone': 'null'}, 'user_id': 22086, 'phone': 'null', 'email': 'test1@gmail.com', 'name': 'tony hood', 'created': '2024-08-11T04:58:46.798058Z', 'modified': '2024-09-07T17:21:50.186396Z', 'updated_by': 2}, {'user': {'email': 'look@gmail.com', 'name': 'Look Tom', 'organization_id': 1, 'phone': 'null'}, 'user_id': 22086, 'phone': 'null', 'email': 'look@gmail.com', 'name': 'Look Tom', 'created': '2024-08-11T04:58:46.798058Z', 'modified': '2024-09-07T17:21:50.186396Z', 'updated_by': 2}, {'user': {'email': 'abc@gmail.com', 'name': 'David Smith', 'organization_id': 1, 'phone': 'null'}, 'user_id': 22086, 'phone': 'null', 'email': 'abc@gmail.com', 'name': 'David Smith', 'created': '2024-08-11T04:58:46.798058Z', 'modified': '2024-09-07T17:21:50.186396Z', 'updated_by': 2}, {'user': {'email': 'def@gmail.com', 'name': 'John Smith', 'organization_id': 1, 'phone': 'null'}, 'user_id': 22099, 'phone': 'null', 'email': 'def@gmail.com', 'name': 'John Smith', 'created': '2024-08-11T04:58:46.798058Z', 'modified': '2024-09-07T17:21:50.186396Z', 'updated_by': 2}]\n",
      "Users: [{'user': {'email': 'abc@gmail.com', 'name': 'David Smith', 'organization_id': 1, 'phone': 'null'}, 'user_id': 22086, 'phone': 'null', 'email': 'abc@gmail.com', 'name': 'David Smith', 'created': '2024-08-11T04:58:46.798058Z', 'modified': '2024-09-07T17:21:50.186396Z', 'updated_by': 2}, {'user': {'email': 'def@gmail.com', 'name': 'John Smith', 'organization_id': 1, 'phone': 'null'}, 'user_id': 22099, 'phone': 'null', 'email': 'def@gmail.com', 'name': 'John Smith', 'created': '2024-08-11T04:58:46.798058Z', 'modified': '2024-09-07T17:21:50.186396Z', 'updated_by': 2}]\n"
     ]
    }
   ],
   "source": [
    "from langchain_community.chat_models import ChatZhipuAI\n",
    "from langchain_core.prompts import ChatPromptTemplate\n",
    "import json\n",
    "from langchain_core.output_parsers import JsonOutputParser\n",
    "\n",
    "llm = ChatZhipuAI(\n",
    "    api_key=zhipukey,\n",
    "    model=\"GLM-4-Plus\",\n",
    "    temperature=0\n",
    ")\n",
    "\n",
    "def account_info_tool():\n",
    "    # simlutate the user data\n",
    "    user_data = mock_data\n",
    "    return user_data\n",
    "\n",
    "\n",
    "def main(name: str, email: str):\n",
    "    user_data = account_info_tool()\n",
    "    print(f\"Orignal User Data: {user_data}\")  # 打印调试信息\n",
    "    prompt = ChatPromptTemplate.from_template(\"从{user_data}中找到与用户{name}以及{name}最匹配的字段，使用JSON格式返回用户所有信息\")\n",
    "    fliterChain = prompt | llm | JsonOutputParser() \n",
    "    users = fliterChain.invoke({\"user_data\": json.dumps(user_data), \"name\": name, \"email\": email})\n",
    "    print(f\"Users: {users}\")  # 打印调试信息\n",
    "    \n",
    "if __name__ == \"__main__\":\n",
    "    main(\"Smith\",\"def@gmail.com\")"
   ]
  }
 ],
 "metadata": {
  "kernelspec": {
   "display_name": "langchain_v0.2",
   "language": "python",
   "name": "python3"
  },
  "language_info": {
   "codemirror_mode": {
    "name": "ipython",
    "version": 3
   },
   "file_extension": ".py",
   "mimetype": "text/x-python",
   "name": "python",
   "nbconvert_exporter": "python",
   "pygments_lexer": "ipython3",
   "version": "3.12.1"
  }
 },
 "nbformat": 4,
 "nbformat_minor": 2
}
