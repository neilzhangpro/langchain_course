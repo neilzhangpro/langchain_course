{
 "cells": [
  {
   "cell_type": "markdown",
   "metadata": {},
   "source": [
    "## AI Agent智能应用从0到1定制开发 \n",
    "## AI Agent Intelligent Application Custom Development from 0 to 1\n",
    "******\n",
    "- 此代码为网课《AI Agent智能应用从0到1定制开发》的配套代码，需要注意本套代码建议与网课适配配合食用。\n",
    "- This code for the online course <AI Agent Intelligent Applications from 0 to 1 custom development> supporting code, need to pay attention to this set of code is recommended with the online course adapted to work with consumption.\n",
    "- 需要注意由于课程开发周期的原因，langchain版本跨越了3个大版本，部分代码会与视频演示有差别!\n",
    "- Note that due to the course development cycle, the langchain version spans 3 major releases and some of the code will differ from the video demo!\n",
    "- 课程地址：https://coding.imooc.com/class/822.html\n",
    "- Course address: https://coding.imooc.com/class/822.html"
   ]
  },
  {
   "cell_type": "markdown",
   "metadata": {},
   "source": [
    "### 从环境变量中读取密钥\n",
    "### Read the key from the environment variable\n",
    "- 注意：尽量将你的OpenAI Key存储在类似.env文件中，而不是明文暴露在代码里，这是一种基本的安全措施\n",
    "- Note: Try to store your OpenAI Key in something like an .env file, rather than exposing it explicitly in code, as a basic safety measure!\n",
    "******"
   ]
  },
  {
   "cell_type": "code",
   "execution_count": 1,
   "metadata": {},
   "outputs": [],
   "source": [
    "\n",
    "import os\n",
    "from dotenv import load_dotenv\n",
    "# Load environment variables from openai.env file\n",
    "load_dotenv(\"asset/openai.env\")\n",
    "\n",
    "# Read the OPENAI_API_KEY from the environment\n",
    "api_key = os.getenv(\"OPENAI_API_KEY\")\n",
    "api_base = os.getenv(\"OPENAI_API_BASE\")\n",
    "os.environ[\"OPENAI_API_KEY\"] = api_key\n",
    "os.environ[\"OPENAI_API_BASE\"] = api_base\n",
    "os.environ[\"SERPAPI_API_KEY\"] = os.getenv(\"SERPAPI_API_KEY\")\n",
    "os.environ[\"ELEVEN_API_KEY\"] = os.getenv(\"ELEVEN_API_KEY\")\n",
    "os.environ[\"AZURE_COGS_KEY\"] = os.getenv(\"AZURE_COGS_KEY\")\n",
    "os.environ[\"AZURE_COGS_ENDPOINT\"] = os.getenv(\"AZURE_COGS_ENDPOINT\")\n",
    "os.environ[\"AZURE_COGS_REGION\"] = os.getenv(\"AZURE_COGS_REGION\")\n",
    "os.environ[\"DASHSCOPE_API_KEY\"] = os.getenv(\"DASHSCOPE_API_KEY\")\n",
    "os.environ[\"ZHIPUAI_API_KEY\"] = os.getenv(\"ZHIPUAI_API_KEY\")\n",
    "zhipukey =  os.getenv(\"ZHIPUAI_API_KEY\")\n",
    "os.environ[\"TAVILY_API_KEY\"] = os.getenv(\"TAVILY_API_KEY\")\n",
    "os.environ[\"MOONSHOT_API_KEY\"] = os.getenv(\"MoonShot_key\")\n",
    "moonshotkey = os.getenv(\"MoonShot_key\")"
   ]
  },
  {
   "cell_type": "markdown",
   "metadata": {},
   "source": [
    "### 使用langchain 0.2 大版本 接入月之暗面\n",
    "### use langchain 0.2 version with Moonshot\n",
    "*****"
   ]
  },
  {
   "cell_type": "code",
   "execution_count": 7,
   "metadata": {},
   "outputs": [
    {
     "name": "stdout",
     "output_type": "stream",
     "text": [
      "我爱好编程。\n"
     ]
    }
   ],
   "source": [
    "from langchain.chat_models import  ChatOpenAI\n",
    "from langchain_core.messages import HumanMessage, SystemMessage\n",
    "chat = ChatOpenAI(\n",
    "    openai_api_key=moonshotkey,\n",
    "    openai_api_base=\"https://api.moonshot.cn/v1/\", \n",
    "    model_name=\"moonshot-v1-8k\",\n",
    ")\n",
    "messages = [\n",
    "    SystemMessage(\n",
    "        content=\n",
    "        \"You are a helpful assistant that translates English to Chinese.\"),\n",
    "    HumanMessage(\n",
    "        content=\n",
    "        \"Translate this sentence from English to Chinese. I love programming.\"\n",
    "    ),\n",
    "]\n",
    "\n",
    "res = chat.invoke(messages)\n",
    "print(res.content)"
   ]
  },
  {
   "cell_type": "markdown",
   "metadata": {},
   "source": [
    "- Chain"
   ]
  },
  {
   "cell_type": "code",
   "execution_count": 3,
   "metadata": {},
   "outputs": [
    {
     "name": "stderr",
     "output_type": "stream",
     "text": [
      "C:\\Users\\Administrator\\AppData\\Local\\Temp\\ipykernel_2500\\490625260.py:7: LangChainDeprecationWarning: The class `LLMChain` was deprecated in LangChain 0.1.17 and will be removed in 1.0. Use :meth:`~RunnableSequence, e.g., `prompt | llm`` instead.\n",
      "  tongyi_joke_chain = LLMChain(llm=chat, prompt=prompt)\n"
     ]
    },
    {
     "name": "stdout",
     "output_type": "stream",
     "text": [
      "{'adjective': '程序员', 'text': '当然可以，这里有一个关于程序员的笑话：\\n\\n有一天，一个程序员的妻子对他说：“你的电脑坏了，你能修一下吗？”\\n\\n程序员回答说：“我当然可以，但我需要一些时间。”\\n\\n妻子问：“你需要多少时间？”\\n\\n程序员回答：“72小时。”\\n\\n妻子惊讶地问：“为什么需要这么久？”\\n\\n程序员解释说：“首先，我需要一个小时来确认问题。然后，我需要24小时来找出问题的根本原因。最后，我需要46小时来解决这个问题。”\\n\\n妻子笑了笑，说：“那我们就等72小时吧。”\\n\\n这个笑话讽刺了程序员在解决问题时可能需要花费大量时间的情况，同时也反映了他们对于问题解决的严谨态度。希望你喜欢这个笑话！'}\n"
     ]
    }
   ],
   "source": [
    "from langchain.chains import LLMChain\n",
    "from langchain_core.prompts import PromptTemplate\n",
    "\n",
    "prompt_template = \"给我讲一个关于{adjective}的笑话\"\n",
    "prompt = PromptTemplate(input_variables=[\"adjective\"],\n",
    "                        template=prompt_template)\n",
    "tongyi_joke_chain = LLMChain(llm=chat, prompt=prompt)\n",
    "res = tongyi_joke_chain.invoke(\"程序员\")\n",
    "print(res)"
   ]
  },
  {
   "cell_type": "markdown",
   "metadata": {},
   "source": [
    "- chians of LCEL"
   ]
  },
  {
   "cell_type": "code",
   "execution_count": 4,
   "metadata": {},
   "outputs": [
    {
     "name": "stdout",
     "output_type": "stream",
     "text": [
      "好的，这里有一个关于企鹅的笑话：\n",
      "\n",
      "一天，一只企鹅走进了一家酒吧，走到吧台前说：“我要一杯啤酒。”\n",
      "\n",
      "酒保看着企鹅，惊讶地说：“哇，你真的会说话！”\n",
      "\n",
      "企鹅回答：“是的，我能说话。”\n",
      "\n",
      "酒保问：“那你想要什么？”\n",
      "\n",
      "企鹅说：“我已经说过了，我要一杯啤酒。”\n",
      "\n",
      "酒保给了企鹅一杯啤酒。\n",
      "\n",
      "第二天，企鹅又走进了酒吧，走到吧台前说：“我要一杯啤酒。”\n",
      "\n",
      "酒保惊讶地说：“你又来了！你真的能说话！”\n",
      "\n",
      "企鹅回答：“是的，我能说话。”\n",
      "\n",
      "酒保问：“那你想要什么？”\n",
      "\n",
      "企鹅说：“我已经说过了，我要一杯啤酒。”\n",
      "\n",
      "酒保给了企鹅一杯啤酒。\n",
      "\n",
      "第三天，企鹅又走进了酒吧，走到吧台前说：“我要一杯啤酒。”\n",
      "\n",
      "这时，酒保还没来得及说话，企鹅旁边的一只海豹说：“嘿，企鹅，你真的很会说话！”\n",
      "\n",
      "企鹅看着海豹，说：“嗯，是的，我能说话。”\n",
      "\n",
      "海豹惊讶地问：“那你想要什么？”\n",
      "\n",
      "企鹅说：“我已经说过了，我要一杯啤酒。”\n",
      "\n",
      "海豹说：“哇，这太神奇了！你是怎么学会说话的？”\n",
      "\n",
      "企鹅回答：“我在南极的一家特殊学校里学的。”\n",
      "\n",
      "海豹好奇地问：“那你是怎么来到这里的？”\n",
      "\n",
      "企鹅微笑着说：“我飞来的。”\n",
      "\n",
      "海豹惊讶地说：“企鹅会飞？”\n",
      "\n",
      "企鹅回答：“当然不会，但我猜你不会介意我开个玩笑。”\n",
      "\n",
      "这个笑话的幽默之处在于企鹅的出人意料的回答和它与其他动物之间的互动，以及最后它与海豹的幽默对话。\n"
     ]
    }
   ],
   "source": [
    "from langchain_core.output_parsers import StrOutputParser\n",
    "from langchain_core.prompts import ChatPromptTemplate\n",
    "\n",
    "prompt = ChatPromptTemplate.from_template(\"给我讲一个关于{topic}的笑话\")\n",
    "output_parser = StrOutputParser()\n",
    "\n",
    "chain = prompt | chat | output_parser\n",
    "\n",
    "res = chain.invoke({\"topic\": \"企鹅\"})\n",
    "print(res)"
   ]
  },
  {
   "cell_type": "markdown",
   "metadata": {},
   "source": [
    "- Agents"
   ]
  },
  {
   "cell_type": "code",
   "execution_count": 5,
   "metadata": {},
   "outputs": [
    {
     "name": "stderr",
     "output_type": "stream",
     "text": [
      "e:\\教程\\imooc\\langchan_course\\langchain_v0.2\\Lib\\site-packages\\langsmith\\client.py:323: LangSmithMissingAPIKeyWarning: API key must be provided when using hosted LangSmith API\n",
      "  warnings.warn(\n",
      "Error in StdOutCallbackHandler.on_chain_start callback: AttributeError(\"'NoneType' object has no attribute 'get'\")\n"
     ]
    },
    {
     "name": "stdout",
     "output_type": "stream",
     "text": [
      "\u001b[32;1m\u001b[1;3mI need to find out the current weather in Beijing.\n",
      "Action: search\n",
      "Action Input: 北京 今天 天气\u001b[0m\u001b[36;1m\u001b[1;3m['天气非常好万里无云']\u001b[0m\u001b[32;1m\u001b[1;3mI now know the final answer\n",
      "Final Answer: 今天北京的天气非常好，万里无云。\u001b[0m\n",
      "\n",
      "\u001b[1m> Finished chain.\u001b[0m\n"
     ]
    },
    {
     "data": {
      "text/plain": [
       "{'input': '北京今天的天气如何?', 'output': '今天北京的天气非常好，万里无云。'}"
      ]
     },
     "execution_count": 5,
     "metadata": {},
     "output_type": "execute_result"
    }
   ],
   "source": [
    "from langchain import hub\n",
    "from langchain.agents import AgentExecutor, create_react_agent\n",
    "from langchain_core.tools import tool\n",
    "\n",
    "\n",
    "#自定义工具\n",
    "@tool\n",
    "def search(query: str):\n",
    "    \"\"\"Call to surf the web.\"\"\"\n",
    "    # 返回假数据\n",
    "    return [\"天气非常好万里无云\"]\n",
    "\n",
    "\n",
    "tools = [search]\n",
    "#提示词\n",
    "prompt = hub.pull(\"hwchase17/react\")\n",
    "# Construct the ReAct agent\n",
    "agent = create_react_agent(chat, tools, prompt)\n",
    "#执行\n",
    "agent_executor = AgentExecutor(agent=agent, tools=tools, verbose=True)\n",
    "agent_executor.invoke({\"input\": \"北京今天的天气如何?\"})"
   ]
  }
 ],
 "metadata": {
  "kernelspec": {
   "display_name": "Python 3",
   "language": "python",
   "name": "python3"
  },
  "language_info": {
   "codemirror_mode": {
    "name": "ipython",
    "version": 3
   },
   "file_extension": ".py",
   "mimetype": "text/x-python",
   "name": "python",
   "nbconvert_exporter": "python",
   "pygments_lexer": "ipython3",
   "version": "3.12.1"
  }
 },
 "nbformat": 4,
 "nbformat_minor": 2
}
